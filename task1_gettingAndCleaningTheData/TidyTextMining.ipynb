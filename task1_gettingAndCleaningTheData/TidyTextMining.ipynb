{
 "cells": [
  {
   "cell_type": "code",
   "execution_count": 2,
   "metadata": {},
   "outputs": [],
   "source": [
    "# Attempt at following example code from:\n",
    "# https://www.tidytextmining.com/ngrams.html\n",
    "# to build an n-gram tree with the\n",
    "# twitter data"
   ]
  },
  {
   "cell_type": "code",
   "execution_count": 72,
   "metadata": {},
   "outputs": [],
   "source": [
    "library(dplyr)\n",
    "library(tidytext)\n",
    "library(tidyr)\n",
    "library(ggplot2)\n",
    "library(igraph)\n",
    "library(ggraph)"
   ]
  },
  {
   "cell_type": "code",
   "execution_count": 4,
   "metadata": {},
   "outputs": [
    {
     "data": {
      "text/html": [
       "<ol>\n",
       "\t<li>'These late night walks are still religion to me. Thank goodness for these.'</li>\n",
       "\t<li>'Enter to win an Orioles vintage cap by email or tweet the answer to: Which 2 O\\'s pitchers hold the record for the most opening day starts?'</li>\n",
       "\t<li>'A Monthly payment plan is now available for those wishing to enroll in Hawaii\\'s #1 RE Investor training program - the Millionaire Mentor...'</li>\n",
       "\t<li>'Game time!'</li>\n",
       "\t<li>'I feared that this was bound to happen Sugarland almost died 2 who should they sue The State of Indiana? whynot'</li>\n",
       "\t<li>'ADDY Awards tonight...plus giving scholarships to 5 deserving students...and something from our young advertising professionals'</li>\n",
       "</ol>\n"
      ],
      "text/latex": [
       "\\begin{enumerate}\n",
       "\\item 'These late night walks are still religion to me. Thank goodness for these.'\n",
       "\\item 'Enter to win an Orioles vintage cap by email or tweet the answer to: Which 2 O\\textbackslash{}'s pitchers hold the record for the most opening day starts?'\n",
       "\\item 'A Monthly payment plan is now available for those wishing to enroll in Hawaii\\textbackslash{}'s \\#1 RE Investor training program - the Millionaire Mentor...'\n",
       "\\item 'Game time!'\n",
       "\\item 'I feared that this was bound to happen Sugarland almost died 2 who should they sue The State of Indiana? whynot'\n",
       "\\item 'ADDY Awards tonight...plus giving scholarships to 5 deserving students...and something from our young advertising professionals'\n",
       "\\end{enumerate}\n"
      ],
      "text/markdown": [
       "1. 'These late night walks are still religion to me. Thank goodness for these.'\n",
       "2. 'Enter to win an Orioles vintage cap by email or tweet the answer to: Which 2 O\\'s pitchers hold the record for the most opening day starts?'\n",
       "3. 'A Monthly payment plan is now available for those wishing to enroll in Hawaii\\'s #1 RE Investor training program - the Millionaire Mentor...'\n",
       "4. 'Game time!'\n",
       "5. 'I feared that this was bound to happen Sugarland almost died 2 who should they sue The State of Indiana? whynot'\n",
       "6. 'ADDY Awards tonight...plus giving scholarships to 5 deserving students...and something from our young advertising professionals'\n",
       "\n",
       "\n"
      ],
      "text/plain": [
       "[[1]]\n",
       "[1] \"These late night walks are still religion to me. Thank goodness for these.\"\n",
       "\n",
       "[[2]]\n",
       "[1] \"Enter to win an Orioles vintage cap by email or tweet the answer to: Which 2 O's pitchers hold the record for the most opening day starts?\"\n",
       "\n",
       "[[3]]\n",
       "[1] \"A Monthly payment plan is now available for those wishing to enroll in Hawaii's #1 RE Investor training program - the Millionaire Mentor...\"\n",
       "\n",
       "[[4]]\n",
       "[1] \"Game time!\"\n",
       "\n",
       "[[5]]\n",
       "[1] \"I feared that this was bound to happen Sugarland almost died 2 who should they sue The State of Indiana? whynot\"\n",
       "\n",
       "[[6]]\n",
       "[1] \"ADDY Awards tonight...plus giving scholarships to 5 deserving students...and something from our young advertising professionals\"\n"
      ]
     },
     "metadata": {},
     "output_type": "display_data"
    }
   ],
   "source": [
    "enUsTwitter10kSubset <- readRDS(file='../data/subsets/enUsTwitter10kSubset.rds')\n",
    "head(enUsTwitter10kSubset)"
   ]
  },
  {
   "cell_type": "code",
   "execution_count": 6,
   "metadata": {},
   "outputs": [
    {
     "data": {
      "text/html": [
       "<ol class=list-inline>\n",
       "\t<li>'Because I could not stop for Death -'</li>\n",
       "\t<li>'He kindly stopped for me -'</li>\n",
       "\t<li>'The Carriage held but just Ourselves -'</li>\n",
       "\t<li>'and Immortality'</li>\n",
       "</ol>\n"
      ],
      "text/latex": [
       "\\begin{enumerate*}\n",
       "\\item 'Because I could not stop for Death -'\n",
       "\\item 'He kindly stopped for me -'\n",
       "\\item 'The Carriage held but just Ourselves -'\n",
       "\\item 'and Immortality'\n",
       "\\end{enumerate*}\n"
      ],
      "text/markdown": [
       "1. 'Because I could not stop for Death -'\n",
       "2. 'He kindly stopped for me -'\n",
       "3. 'The Carriage held but just Ourselves -'\n",
       "4. 'and Immortality'\n",
       "\n",
       "\n"
      ],
      "text/plain": [
       "[1] \"Because I could not stop for Death -\"  \n",
       "[2] \"He kindly stopped for me -\"            \n",
       "[3] \"The Carriage held but just Ourselves -\"\n",
       "[4] \"and Immortality\"                       "
      ]
     },
     "metadata": {},
     "output_type": "display_data"
    }
   ],
   "source": [
    "text <- c(\"Because I could not stop for Death -\",\n",
    "          \"He kindly stopped for me -\",\n",
    "          \"The Carriage held but just Ourselves -\",\n",
    "          \"and Immortality\")\n",
    "\n",
    "text"
   ]
  },
  {
   "cell_type": "code",
   "execution_count": 9,
   "metadata": {},
   "outputs": [
    {
     "name": "stdout",
     "output_type": "stream",
     "text": [
      "List of 10000\n",
      " $ : chr \"These late night walks are still religion to me. Thank goodness for these.\"\n",
      " $ : chr \"Enter to win an Orioles vintage cap by email or tweet the answer to: Which 2 O's pitchers hold the record for t\"| __truncated__\n",
      " $ : chr \"A Monthly payment plan is now available for those wishing to enroll in Hawaii's #1 RE Investor training program\"| __truncated__\n",
      " $ : chr \"Game time!\"\n",
      " $ : chr \"I feared that this was bound to happen Sugarland almost died 2 who should they sue The State of Indiana? whynot\"\n",
      " $ : chr \"ADDY Awards tonight...plus giving scholarships to 5 deserving students...and something from our young advertisi\"| __truncated__\n",
      " $ : chr \"Staring at my poster that Austin signed for me<3\"\n",
      " $ : chr \"(#ff) I can actually hear you say those words in that calm trademark asian james earl jones voice. Werid!\"\n",
      " $ : chr \"#3WordsForYou Trust in God \"\n",
      " $ : chr \"Thanks again for all the birthday wishes and the birthday love, you guys made my day even greater!\"\n",
      " $ : chr \"the #EDM PLAYGROUND w/ IS LIVE RIGHT NOW! TUNE IN FOR THE BEST IN ELECTRONIC DANCE MUSIC! MANIC MONDAYS HERE WE GO!\"\n",
      " $ : chr \"My way is cooler. More designer-y. ;-)\"\n",
      " $ : chr \"“: I'm listening to the wacky sounds of - where the Beatles meet the Addams family... and I'm Wednesday” Thx!\"\n",
      " $ : chr \"Is any company making #TeamPeeta shirts yet? Let's get real, I want one for #TheHungerGames ASAP!\"\n",
      " $ : chr \"These mfs than came back come on Kentucky\"\n",
      " $ : chr \"It is likely for there to be a dance with life, a artsy reply to its intrinsic limitations and concerns.\"\n",
      " $ : chr \"Bring your dancing shoes to Fontana's 105 Eldridge NYC. BrownRiceFamily will be performing honoring the legend \"| __truncated__\n",
      " $ : chr \"Never stand up when your foot falls asleep wearing heels...\"\n",
      " $ : chr \"I feel like I got stabbed in my stomach -.-\"\n",
      " $ : chr \"i make this sore throat my bitch.\"\n",
      " $ : chr \"WiFi! Canada! Toronto! Horseshoe! Horrid border crossings! Exclamation points!\"\n",
      " $ : chr \"thank you for making me think of a giant marshmallow man.\"\n",
      " $ : chr \"Lobster & shrimp with a suit on\"\n",
      " $ : chr \"Thanks for getting the word out!\"\n",
      " $ : chr \"The old saying is TRUE birds of a feather flock together\"\n",
      " $ : chr \"doesn't get much better\"\n",
      " $ : chr \"First time at Fat Patty's .. what to get?!?!?!\"\n",
      " $ : chr \"Good Morning! Getting ready for class. Thank you God for waking up this morning you didn't have to but you did.\"| __truncated__\n",
      " $ : chr \"#AT&T is looking for a project manager for cool mobility projects in Atlanta. DM/email me if interested.\"\n",
      " $ : chr \"Didn't get the pearls, fudge\"\n",
      " $ : chr \"Breakfast at the gas station. :-/\"\n",
      " $ : chr \"After watching this Shane Mosley fight from last Saturday, Shane needs to go ahead and retire. He's a hall of f\"| __truncated__\n",
      " $ : chr \"that was the biggest smile I've had this morning. Thank you. :D\"\n",
      " $ : chr \"I seriously had this water on the stove for over a hour... And its still not boiling!\"\n",
      " $ : chr \"My head hurt\"\n",
      " $ : chr \"March 23 Shank Hall !! Getting ready !!\"\n",
      " $ : chr \"Got us SBux coffee (to go packets) and some peppermint single creamers...also box of variety teas to enjoy too.\"| __truncated__\n",
      " $ : chr \"Let's all say something nice to everyone we pass today.\"\n",
      " $ : chr \"Thank you for the RT to your followers regarding EA and Star Wars being inclusive of LGBT romance. Have a nice weekend!\"\n",
      " $ : chr \"stay strong throughout this week, its gonna be fucking crazy but it'll be over with in no time\"\n",
      " $ : chr \"so sweet\"\n",
      " $ : chr \"I'm ready to go!!!\"\n",
      " $ : chr \"You should follow me! :)\"\n",
      " $ : chr \"So found out the my dog is mixed with black lab and husky. Which explains that he sheads 24/7 lol, lots of hair to clean.\"\n",
      " $ : chr \"Reason #4 that CIS works: Strong business practices and support across the network, which translate into better\"| __truncated__\n",
      " $ : chr \"I smell latent tendencies!\"\n",
      " $ : chr \"Why am I rooting for the #Celtics?\"\n",
      " $ : chr \"Austin, Tx. U?\"\n",
      " $ : chr \"Ladies ===> RT nope sure wouldn't\"\n",
      " $ : chr \"I haven't cried for two days. I thought I was doing so well. But all those old voicemails killed me\"\n",
      " $ : chr \"I have been enjoying Battleground too. Though the Office parallels are sometimes distracting.\"\n",
      " $ : chr \"taking a 3hour lunch break. lol, yea... I do it\"\n",
      " $ : chr \"Ooooyeah...out here.\"\n",
      " $ : chr \"We're not that scary, are we? ;) Pass it along, I'm sure someone will be interested!\"\n",
      " $ : chr \"I don't think so. I lost many brain cells there ;)\"\n",
      " $ : chr \"Mondays, Tuesdays, or Wednesdays *1st cut FREE - before 3pm. We'll do up to 2 free cuts per day. Call Raymond. \"| __truncated__\n",
      " $ : chr \"They should re-name the History channel , the Hitler channel! They have more shit on there about hitler than a little bit..\"\n",
      " $ : chr \"I leave unattended for one day and now I have an iPhone app for the TV and no remotes.\"\n",
      " $ : chr \"That's the best kind of reading!\"\n",
      " $ : chr \"The silhouette of a rabbit on the toast is pretty cool, too.\"\n",
      " $ : chr \"yep, we kinda rock the house =)\"\n",
      " $ : chr \"Grab Bag Sale continues! Just realized how much great stuff we are basically giving away! Ops ;)\"\n",
      " $ : chr \"Woah... Julie can sleep tweet...\"\n",
      " $ : chr \"hey girl!\"\n",
      " $ : chr \"If only Ghost Rider glitter bombed Santorum in the movie.\"\n",
      " $ : chr \"Kevin heart is a Mess lol <3\"\n",
      " $ : chr \"Oomf is too freaky right now lol He gotta chill nobody wanna read all that\"\n",
      " $ : chr \"love love love! That song makes everything better! (:\"\n",
      " $ : chr \"beep beep beep beep beep beep beep beep beep beep beep beep beep beep beep beep beep beep beep beep beep beep , I win .\"\n",
      " $ : chr \"I know Michele Bachmann is a mean girl and a fascist, but I thought \\\"Windbag Spice\\\" was pretty funny.\"\n",
      " $ : chr \"#Awake is so good, I almost don't wanna watch it anymore\"\n",
      " $ : chr \"sweet dreams! setting off for ireland tomorrow!!\"\n",
      " $ : chr \"I watched in America on today. He went to the Mustang Ranch. Oh my, talk about your sticky wicket. ; )\"\n",
      " $ : chr \"Good morning Twitterverse. Have an amazing Monday!\"\n",
      " $ : chr \"There's plenty of dates available to book a home party, basket party, e-party or fundraiser in February. Contac\"| __truncated__\n",
      " $ : chr \"is cute af\"\n",
      " $ : chr \"Starting our first antihistamine free day as we await a new round of food allergy testing next week.\"\n",
      " $ : chr \"GUESS WHAT I GOT!!\"\n",
      " $ : chr \"stopping by to say hello!\"\n",
      " $ : chr \"That talking \\\"Snuggle\\\" bear in that fabric softener commercial is super creepy.\"\n",
      " $ : chr \"u,u,u lock ur profile omg fyii\"\n",
      " $ : chr \"I like it 2 post 2 Fbook, twitter & flickr all at once,but then again each time I do that I question what I am \"| __truncated__\n",
      " $ : chr \"The total gym radio commercial is encouraging me to dial and drive for a 5 minute special offer.\"\n",
      " $ : chr \"We only have 4, $50 off coupons for Botox, plus if you sign up with Brilliant Distinctions, you can get another\"| __truncated__\n",
      " $ : chr \"thank you for following me, I followed you back\"\n",
      " $ : chr \"Truth or dare?\"\n",
      " $ : chr \"Thank you! Yes, it sure is wonderful! I've got to get to bed now! I'm fading fast! Goodnight & chat soon!!\"\n",
      " $ : chr \"Jimmy Howard has allowed 2 goals on 7 shots now today. USA's Save Percentage for the tournament has to be in th\"| __truncated__\n",
      " $ : chr \"Hurt my leg running home with #oomf yesterday\"\n",
      " $ : chr \"bro I are straight cross from usus\"\n",
      " $ : chr \"it's a labatt. All I drink.\"\n",
      " $ : chr \"yes I think you can see the good in people but not be blinded/deceived by what's not good.You still have to guard your heart!\"\n",
      " $ : chr \"their fans will talk smack regardless. They are talking smack about their preseason ranking. They have short man syndrome.\"\n",
      " $ : chr \"Trent Richardson is a 3rd-4th rounder rumored to be taken with the 3rd-4th pick.\"\n",
      " $ : chr \"Fire alarm #2 in the first week!\"\n",
      " $ : chr \"See y'all after the #RedSox game tomorrow night at Who's On First #Boston for some sweet sweet rock&roll! Come \"| __truncated__\n",
      " $ : chr \"I have been up since 7 am and I can't fall back to sleep.\"\n",
      " $ : chr \"Sad for Milan and with the players leaving, nxt season will prob be tough too.\"\n",
      " $ : chr \"Consider us there promise!\"\n",
      "  [list output truncated]\n"
     ]
    }
   ],
   "source": [
    "str(enUsTwitter10kSubset)"
   ]
  },
  {
   "cell_type": "code",
   "execution_count": 11,
   "metadata": {},
   "outputs": [
    {
     "name": "stdout",
     "output_type": "stream",
     "text": [
      " chr [1:4] \"Because I could not stop for Death -\" ...\n"
     ]
    }
   ],
   "source": [
    "str(text)"
   ]
  },
  {
   "cell_type": "code",
   "execution_count": 14,
   "metadata": {},
   "outputs": [
    {
     "name": "stdout",
     "output_type": "stream",
     "text": [
      " chr [1:10000] \"These late night walks are still religion to me. Thank goodness for these.\" ...\n"
     ]
    }
   ],
   "source": [
    "str(unlist(enUsTwitter10kSubset))"
   ]
  },
  {
   "cell_type": "code",
   "execution_count": 28,
   "metadata": {},
   "outputs": [
    {
     "data": {
      "text/html": [
       "<table>\n",
       "<caption>A tibble: 6 × 2</caption>\n",
       "<thead>\n",
       "\t<tr><th scope=col>line</th><th scope=col>text</th></tr>\n",
       "\t<tr><th scope=col>&lt;int&gt;</th><th scope=col>&lt;chr&gt;</th></tr>\n",
       "</thead>\n",
       "<tbody>\n",
       "\t<tr><td>1</td><td>These late night walks are still religion to me. Thank goodness for these.                                                                 </td></tr>\n",
       "\t<tr><td>2</td><td>Enter to win an Orioles vintage cap by email or tweet the answer to: Which 2 O's pitchers hold the record for the most opening day starts? </td></tr>\n",
       "\t<tr><td>3</td><td>A Monthly payment plan is now available for those wishing to enroll in Hawaii's #1 RE Investor training program - the Millionaire Mentor...</td></tr>\n",
       "\t<tr><td>4</td><td>Game time!                                                                                                                                 </td></tr>\n",
       "\t<tr><td>5</td><td>I feared that this was bound to happen Sugarland almost died 2 who should they sue The State of Indiana? whynot                            </td></tr>\n",
       "\t<tr><td>6</td><td>ADDY Awards tonight...plus giving scholarships to 5 deserving students...and something from our young advertising professionals            </td></tr>\n",
       "</tbody>\n",
       "</table>\n"
      ],
      "text/latex": [
       "A tibble: 6 × 2\n",
       "\\begin{tabular}{r|ll}\n",
       " line & text\\\\\n",
       " <int> & <chr>\\\\\n",
       "\\hline\n",
       "\t 1 & These late night walks are still religion to me. Thank goodness for these.                                                                 \\\\\n",
       "\t 2 & Enter to win an Orioles vintage cap by email or tweet the answer to: Which 2 O's pitchers hold the record for the most opening day starts? \\\\\n",
       "\t 3 & A Monthly payment plan is now available for those wishing to enroll in Hawaii's \\#1 RE Investor training program - the Millionaire Mentor...\\\\\n",
       "\t 4 & Game time!                                                                                                                                 \\\\\n",
       "\t 5 & I feared that this was bound to happen Sugarland almost died 2 who should they sue The State of Indiana? whynot                            \\\\\n",
       "\t 6 & ADDY Awards tonight...plus giving scholarships to 5 deserving students...and something from our young advertising professionals            \\\\\n",
       "\\end{tabular}\n"
      ],
      "text/markdown": [
       "\n",
       "A tibble: 6 × 2\n",
       "\n",
       "| line &lt;int&gt; | text &lt;chr&gt; |\n",
       "|---|---|\n",
       "| 1 | These late night walks are still religion to me. Thank goodness for these.                                                                  |\n",
       "| 2 | Enter to win an Orioles vintage cap by email or tweet the answer to: Which 2 O's pitchers hold the record for the most opening day starts?  |\n",
       "| 3 | A Monthly payment plan is now available for those wishing to enroll in Hawaii's #1 RE Investor training program - the Millionaire Mentor... |\n",
       "| 4 | Game time!                                                                                                                                  |\n",
       "| 5 | I feared that this was bound to happen Sugarland almost died 2 who should they sue The State of Indiana? whynot                             |\n",
       "| 6 | ADDY Awards tonight...plus giving scholarships to 5 deserving students...and something from our young advertising professionals             |\n",
       "\n"
      ],
      "text/plain": [
       "  line\n",
       "1 1   \n",
       "2 2   \n",
       "3 3   \n",
       "4 4   \n",
       "5 5   \n",
       "6 6   \n",
       "  text                                                                                                                                       \n",
       "1 These late night walks are still religion to me. Thank goodness for these.                                                                 \n",
       "2 Enter to win an Orioles vintage cap by email or tweet the answer to: Which 2 O's pitchers hold the record for the most opening day starts? \n",
       "3 A Monthly payment plan is now available for those wishing to enroll in Hawaii's #1 RE Investor training program - the Millionaire Mentor...\n",
       "4 Game time!                                                                                                                                 \n",
       "5 I feared that this was bound to happen Sugarland almost died 2 who should they sue The State of Indiana? whynot                            \n",
       "6 ADDY Awards tonight...plus giving scholarships to 5 deserving students...and something from our young advertising professionals            "
      ]
     },
     "metadata": {},
     "output_type": "display_data"
    }
   ],
   "source": [
    "text_df <- tibble(line = 1:length(enUsTwitter10kSubset), text = unlist(enUsTwitter10kSubset))\n",
    "head(text_df)"
   ]
  },
  {
   "cell_type": "code",
   "execution_count": 30,
   "metadata": {},
   "outputs": [
    {
     "data": {
      "text/html": [
       "<table>\n",
       "<caption>A tibble: 6 × 2</caption>\n",
       "<thead>\n",
       "\t<tr><th scope=col>line</th><th scope=col>text</th></tr>\n",
       "\t<tr><th scope=col>&lt;int&gt;</th><th scope=col>&lt;chr&gt;</th></tr>\n",
       "</thead>\n",
       "<tbody>\n",
       "\t<tr><td> 9995</td><td>If I could be naked all the time I would                                                                             </td></tr>\n",
       "\t<tr><td> 9996</td><td><span style=white-space:pre-wrap>r u in Freeport ? I love rum runners! Nothing like their fried grouper sandwich &amp; piña colada in the coconut!        </span></td></tr>\n",
       "\t<tr><td> 9997</td><td>That #GameOfThrones was the most intense and amazing episode every and now I must wait a week till the new episode 😥😰</td></tr>\n",
       "\t<tr><td> 9998</td><td>Cool, nice Saber and Salem and Curtis! Plus gotta love elephants.                                                    </td></tr>\n",
       "\t<tr><td> 9999</td><td>Its time to take my relationship serious I'm trying to settle down with her as my life long partner                  </td></tr>\n",
       "\t<tr><td>10000</td><td>Our KidZui Blog is geared toward parents, since parents are usually the ones who research and download KidZui.       </td></tr>\n",
       "</tbody>\n",
       "</table>\n"
      ],
      "text/latex": [
       "A tibble: 6 × 2\n",
       "\\begin{tabular}{r|ll}\n",
       " line & text\\\\\n",
       " <int> & <chr>\\\\\n",
       "\\hline\n",
       "\t  9995 & If I could be naked all the time I would                                                                             \\\\\n",
       "\t  9996 & r u in Freeport ? I love rum runners! Nothing like their fried grouper sandwich \\& piña colada in the coconut!        \\\\\n",
       "\t  9997 & That \\#GameOfThrones was the most intense and amazing episode every and now I must wait a week till the new episode 😥😰\\\\\n",
       "\t  9998 & Cool, nice Saber and Salem and Curtis! Plus gotta love elephants.                                                    \\\\\n",
       "\t  9999 & Its time to take my relationship serious I'm trying to settle down with her as my life long partner                  \\\\\n",
       "\t 10000 & Our KidZui Blog is geared toward parents, since parents are usually the ones who research and download KidZui.       \\\\\n",
       "\\end{tabular}\n"
      ],
      "text/markdown": [
       "\n",
       "A tibble: 6 × 2\n",
       "\n",
       "| line &lt;int&gt; | text &lt;chr&gt; |\n",
       "|---|---|\n",
       "|  9995 | If I could be naked all the time I would                                                                              |\n",
       "|  9996 | r u in Freeport ? I love rum runners! Nothing like their fried grouper sandwich &amp; piña colada in the coconut!         |\n",
       "|  9997 | That #GameOfThrones was the most intense and amazing episode every and now I must wait a week till the new episode 😥😰 |\n",
       "|  9998 | Cool, nice Saber and Salem and Curtis! Plus gotta love elephants.                                                     |\n",
       "|  9999 | Its time to take my relationship serious I'm trying to settle down with her as my life long partner                   |\n",
       "| 10000 | Our KidZui Blog is geared toward parents, since parents are usually the ones who research and download KidZui.        |\n",
       "\n"
      ],
      "text/plain": [
       "  line \n",
       "1  9995\n",
       "2  9996\n",
       "3  9997\n",
       "4  9998\n",
       "5  9999\n",
       "6 10000\n",
       "  text                                                                                                                 \n",
       "1 If I could be naked all the time I would                                                                             \n",
       "2 r u in Freeport ? I love rum runners! Nothing like their fried grouper sandwich & piña colada in the coconut!        \n",
       "3 That #GameOfThrones was the most intense and amazing episode every and now I must wait a week till the new episode 😥😰\n",
       "4 Cool, nice Saber and Salem and Curtis! Plus gotta love elephants.                                                    \n",
       "5 Its time to take my relationship serious I'm trying to settle down with her as my life long partner                  \n",
       "6 Our KidZui Blog is geared toward parents, since parents are usually the ones who research and download KidZui.       "
      ]
     },
     "metadata": {},
     "output_type": "display_data"
    }
   ],
   "source": [
    "tail(text_df)"
   ]
  },
  {
   "cell_type": "code",
   "execution_count": 43,
   "metadata": {},
   "outputs": [
    {
     "name": "stdout",
     "output_type": "stream",
     "text": [
      "\u001b[90m# A tibble: 6 x 2\u001b[39m\n",
      "   line word \n",
      "  \u001b[3m\u001b[90m<int>\u001b[39m\u001b[23m \u001b[3m\u001b[90m<chr>\u001b[39m\u001b[23m\n",
      "\u001b[90m1\u001b[39m     1 these\n",
      "\u001b[90m2\u001b[39m     1 late \n",
      "\u001b[90m3\u001b[39m     1 night\n",
      "\u001b[90m4\u001b[39m     1 walks\n",
      "\u001b[90m5\u001b[39m     1 are  \n",
      "\u001b[90m6\u001b[39m     1 still\n",
      "\u001b[90m# A tibble: 6 x 2\u001b[39m\n",
      "   line word    \n",
      "  \u001b[3m\u001b[90m<int>\u001b[39m\u001b[23m \u001b[3m\u001b[90m<chr>\u001b[39m\u001b[23m   \n",
      "\u001b[90m1\u001b[39m \u001b[4m1\u001b[24m\u001b[4m0\u001b[24m000 ones    \n",
      "\u001b[90m2\u001b[39m \u001b[4m1\u001b[24m\u001b[4m0\u001b[24m000 who     \n",
      "\u001b[90m3\u001b[39m \u001b[4m1\u001b[24m\u001b[4m0\u001b[24m000 research\n",
      "\u001b[90m4\u001b[39m \u001b[4m1\u001b[24m\u001b[4m0\u001b[24m000 and     \n",
      "\u001b[90m5\u001b[39m \u001b[4m1\u001b[24m\u001b[4m0\u001b[24m000 download\n",
      "\u001b[90m6\u001b[39m \u001b[4m1\u001b[24m\u001b[4m0\u001b[24m000 kidzui  \n"
     ]
    }
   ],
   "source": [
    "wordsDf <- text_df %>%\n",
    "  unnest_tokens(word, text)\n",
    "\n",
    "print(head(wordsDf))\n",
    "print(tail(wordsDf))"
   ]
  },
  {
   "cell_type": "code",
   "execution_count": 73,
   "metadata": {},
   "outputs": [
    {
     "data": {
      "text/html": [
       "<table>\n",
       "<caption>A tibble: 6 × 2</caption>\n",
       "<thead>\n",
       "\t<tr><th scope=col>word</th><th scope=col>n</th></tr>\n",
       "\t<tr><th scope=col>&lt;chr&gt;</th><th scope=col>&lt;int&gt;</th></tr>\n",
       "</thead>\n",
       "<tbody>\n",
       "\t<tr><td>the</td><td>3915</td></tr>\n",
       "\t<tr><td>to </td><td>3377</td></tr>\n",
       "\t<tr><td>i  </td><td>3024</td></tr>\n",
       "\t<tr><td>a  </td><td>2548</td></tr>\n",
       "\t<tr><td>you</td><td>2367</td></tr>\n",
       "\t<tr><td>and</td><td>1834</td></tr>\n",
       "</tbody>\n",
       "</table>\n"
      ],
      "text/latex": [
       "A tibble: 6 × 2\n",
       "\\begin{tabular}{r|ll}\n",
       " word & n\\\\\n",
       " <chr> & <int>\\\\\n",
       "\\hline\n",
       "\t the & 3915\\\\\n",
       "\t to  & 3377\\\\\n",
       "\t i   & 3024\\\\\n",
       "\t a   & 2548\\\\\n",
       "\t you & 2367\\\\\n",
       "\t and & 1834\\\\\n",
       "\\end{tabular}\n"
      ],
      "text/markdown": [
       "\n",
       "A tibble: 6 × 2\n",
       "\n",
       "| word &lt;chr&gt; | n &lt;int&gt; |\n",
       "|---|---|\n",
       "| the | 3915 |\n",
       "| to  | 3377 |\n",
       "| i   | 3024 |\n",
       "| a   | 2548 |\n",
       "| you | 2367 |\n",
       "| and | 1834 |\n",
       "\n"
      ],
      "text/plain": [
       "  word n   \n",
       "1 the  3915\n",
       "2 to   3377\n",
       "3 i    3024\n",
       "4 a    2548\n",
       "5 you  2367\n",
       "6 and  1834"
      ]
     },
     "metadata": {},
     "output_type": "display_data"
    }
   ],
   "source": [
    "wordsDf %>%\n",
    "  count(word, sort = TRUE) %>%\n",
    "  head"
   ]
  },
  {
   "cell_type": "code",
   "execution_count": 74,
   "metadata": {},
   "outputs": [
    {
     "name": "stderr",
     "output_type": "stream",
     "text": [
      "Joining, by = \"word\"\n"
     ]
    },
    {
     "data": {
      "text/html": [
       "<table>\n",
       "<caption>A tibble: 6 × 2</caption>\n",
       "<thead>\n",
       "\t<tr><th scope=col>word</th><th scope=col>n</th></tr>\n",
       "\t<tr><th scope=col>&lt;chr&gt;</th><th scope=col>&lt;int&gt;</th></tr>\n",
       "</thead>\n",
       "<tbody>\n",
       "\t<tr><td>love</td><td>478</td></tr>\n",
       "\t<tr><td>day </td><td>393</td></tr>\n",
       "\t<tr><td>rt  </td><td>364</td></tr>\n",
       "\t<tr><td>lol </td><td>313</td></tr>\n",
       "\t<tr><td>time</td><td>288</td></tr>\n",
       "\t<tr><td>3   </td><td>247</td></tr>\n",
       "</tbody>\n",
       "</table>\n"
      ],
      "text/latex": [
       "A tibble: 6 × 2\n",
       "\\begin{tabular}{r|ll}\n",
       " word & n\\\\\n",
       " <chr> & <int>\\\\\n",
       "\\hline\n",
       "\t love & 478\\\\\n",
       "\t day  & 393\\\\\n",
       "\t rt   & 364\\\\\n",
       "\t lol  & 313\\\\\n",
       "\t time & 288\\\\\n",
       "\t 3    & 247\\\\\n",
       "\\end{tabular}\n"
      ],
      "text/markdown": [
       "\n",
       "A tibble: 6 × 2\n",
       "\n",
       "| word &lt;chr&gt; | n &lt;int&gt; |\n",
       "|---|---|\n",
       "| love | 478 |\n",
       "| day  | 393 |\n",
       "| rt   | 364 |\n",
       "| lol  | 313 |\n",
       "| time | 288 |\n",
       "| 3    | 247 |\n",
       "\n"
      ],
      "text/plain": [
       "  word n  \n",
       "1 love 478\n",
       "2 day  393\n",
       "3 rt   364\n",
       "4 lol  313\n",
       "5 time 288\n",
       "6 3    247"
      ]
     },
     "metadata": {},
     "output_type": "display_data"
    }
   ],
   "source": [
    "#with stop words removed:\n",
    "data(stop_words)\n",
    "\n",
    "wordsDf %>%\n",
    "  anti_join(stop_words) %>%\n",
    "  count(word, sort = TRUE) %>%\n",
    "  head"
   ]
  },
  {
   "cell_type": "code",
   "execution_count": 60,
   "metadata": {},
   "outputs": [
    {
     "name": "stderr",
     "output_type": "stream",
     "text": [
      "Joining, by = \"word\"\n"
     ]
    },
    {
     "data": {
      "image/png": "[encoded data removed]",
      "text/plain": [
       "plot without title"
      ]
     },
     "metadata": {},
     "output_type": "display_data"
    }
   ],
   "source": [
    "#Plot word frequencies\n",
    "\n",
    "\n",
    "wordsDf %>%\n",
    "  anti_join(stop_words) %>%\n",
    "  count(word, sort = TRUE) %>%\n",
    "  filter(n > 100) %>%\n",
    "  mutate(word = reorder(word, n)) %>%\n",
    "  ggplot(aes(word, n)) +\n",
    "  geom_col() +\n",
    "  xlab(NULL) +\n",
    "  coord_flip()"
   ]
  },
  {
   "cell_type": "code",
   "execution_count": 64,
   "metadata": {},
   "outputs": [
    {
     "data": {
      "text/html": [
       "<table>\n",
       "<caption>A tibble: 6 × 2</caption>\n",
       "<thead>\n",
       "\t<tr><th scope=col>line</th><th scope=col>bigram</th></tr>\n",
       "\t<tr><th scope=col>&lt;int&gt;</th><th scope=col>&lt;chr&gt;</th></tr>\n",
       "</thead>\n",
       "<tbody>\n",
       "\t<tr><td>1</td><td>these late    </td></tr>\n",
       "\t<tr><td>1</td><td>late night    </td></tr>\n",
       "\t<tr><td>1</td><td>night walks   </td></tr>\n",
       "\t<tr><td>1</td><td>walks are     </td></tr>\n",
       "\t<tr><td>1</td><td>are still     </td></tr>\n",
       "\t<tr><td>1</td><td>still religion</td></tr>\n",
       "</tbody>\n",
       "</table>\n"
      ],
      "text/latex": [
       "A tibble: 6 × 2\n",
       "\\begin{tabular}{r|ll}\n",
       " line & bigram\\\\\n",
       " <int> & <chr>\\\\\n",
       "\\hline\n",
       "\t 1 & these late    \\\\\n",
       "\t 1 & late night    \\\\\n",
       "\t 1 & night walks   \\\\\n",
       "\t 1 & walks are     \\\\\n",
       "\t 1 & are still     \\\\\n",
       "\t 1 & still religion\\\\\n",
       "\\end{tabular}\n"
      ],
      "text/markdown": [
       "\n",
       "A tibble: 6 × 2\n",
       "\n",
       "| line &lt;int&gt; | bigram &lt;chr&gt; |\n",
       "|---|---|\n",
       "| 1 | these late     |\n",
       "| 1 | late night     |\n",
       "| 1 | night walks    |\n",
       "| 1 | walks are      |\n",
       "| 1 | are still      |\n",
       "| 1 | still religion |\n",
       "\n"
      ],
      "text/plain": [
       "  line bigram        \n",
       "1 1    these late    \n",
       "2 1    late night    \n",
       "3 1    night walks   \n",
       "4 1    walks are     \n",
       "5 1    are still     \n",
       "6 1    still religion"
      ]
     },
     "metadata": {},
     "output_type": "display_data"
    }
   ],
   "source": [
    "# Start looking at bi-grams:\n",
    "# https://www.tidytextmining.com/ngrams.html\n",
    "bigramsDf <- text_df %>%\n",
    "  unnest_tokens(bigram, text, token=\"ngrams\", n=2)\n",
    "head(bigramsDf)"
   ]
  },
  {
   "cell_type": "code",
   "execution_count": 68,
   "metadata": {},
   "outputs": [
    {
     "data": {
      "text/html": [
       "<table>\n",
       "<caption>A tibble: 6 × 2</caption>\n",
       "<thead>\n",
       "\t<tr><th scope=col>bigram</th><th scope=col>n</th></tr>\n",
       "\t<tr><th scope=col>&lt;chr&gt;</th><th scope=col>&lt;int&gt;</th></tr>\n",
       "</thead>\n",
       "<tbody>\n",
       "\t<tr><td>in the </td><td>299</td></tr>\n",
       "\t<tr><td>for the</td><td>288</td></tr>\n",
       "\t<tr><td>of the </td><td>237</td></tr>\n",
       "\t<tr><td>on the </td><td>199</td></tr>\n",
       "\t<tr><td>to be  </td><td>197</td></tr>\n",
       "\t<tr><td>to the </td><td>178</td></tr>\n",
       "</tbody>\n",
       "</table>\n"
      ],
      "text/latex": [
       "A tibble: 6 × 2\n",
       "\\begin{tabular}{r|ll}\n",
       " bigram & n\\\\\n",
       " <chr> & <int>\\\\\n",
       "\\hline\n",
       "\t in the  & 299\\\\\n",
       "\t for the & 288\\\\\n",
       "\t of the  & 237\\\\\n",
       "\t on the  & 199\\\\\n",
       "\t to be   & 197\\\\\n",
       "\t to the  & 178\\\\\n",
       "\\end{tabular}\n"
      ],
      "text/markdown": [
       "\n",
       "A tibble: 6 × 2\n",
       "\n",
       "| bigram &lt;chr&gt; | n &lt;int&gt; |\n",
       "|---|---|\n",
       "| in the  | 299 |\n",
       "| for the | 288 |\n",
       "| of the  | 237 |\n",
       "| on the  | 199 |\n",
       "| to be   | 197 |\n",
       "| to the  | 178 |\n",
       "\n"
      ],
      "text/plain": [
       "  bigram  n  \n",
       "1 in the  299\n",
       "2 for the 288\n",
       "3 of the  237\n",
       "4 on the  199\n",
       "5 to be   197\n",
       "6 to the  178"
      ]
     },
     "metadata": {},
     "output_type": "display_data"
    }
   ],
   "source": [
    "bigramsDf %>%\n",
    "  count(bigram, sort = TRUE) %>%\n",
    "  head"
   ]
  },
  {
   "cell_type": "code",
   "execution_count": 82,
   "metadata": {},
   "outputs": [
    {
     "data": {
      "text/html": [
       "<table>\n",
       "<caption>A tibble: 6 × 3</caption>\n",
       "<thead>\n",
       "\t<tr><th scope=col>word1</th><th scope=col>word2</th><th scope=col>n</th></tr>\n",
       "\t<tr><th scope=col>&lt;chr&gt;</th><th scope=col>&lt;chr&gt;</th><th scope=col>&lt;int&gt;</th></tr>\n",
       "</thead>\n",
       "<tbody>\n",
       "\t<tr><td>happy </td><td>birthday</td><td>34</td></tr>\n",
       "\t<tr><td>beep  </td><td>beep    </td><td>21</td></tr>\n",
       "\t<tr><td>social</td><td>media   </td><td>17</td></tr>\n",
       "\t<tr><td>3     </td><td>3       </td><td>16</td></tr>\n",
       "\t<tr><td>san   </td><td>diego   </td><td>14</td></tr>\n",
       "\t<tr><td>hell  </td><td>yeah    </td><td>13</td></tr>\n",
       "</tbody>\n",
       "</table>\n"
      ],
      "text/latex": [
       "A tibble: 6 × 3\n",
       "\\begin{tabular}{r|lll}\n",
       " word1 & word2 & n\\\\\n",
       " <chr> & <chr> & <int>\\\\\n",
       "\\hline\n",
       "\t happy  & birthday & 34\\\\\n",
       "\t beep   & beep     & 21\\\\\n",
       "\t social & media    & 17\\\\\n",
       "\t 3      & 3        & 16\\\\\n",
       "\t san    & diego    & 14\\\\\n",
       "\t hell   & yeah     & 13\\\\\n",
       "\\end{tabular}\n"
      ],
      "text/markdown": [
       "\n",
       "A tibble: 6 × 3\n",
       "\n",
       "| word1 &lt;chr&gt; | word2 &lt;chr&gt; | n &lt;int&gt; |\n",
       "|---|---|---|\n",
       "| happy  | birthday | 34 |\n",
       "| beep   | beep     | 21 |\n",
       "| social | media    | 17 |\n",
       "| 3      | 3        | 16 |\n",
       "| san    | diego    | 14 |\n",
       "| hell   | yeah     | 13 |\n",
       "\n"
      ],
      "text/plain": [
       "  word1  word2    n \n",
       "1 happy  birthday 34\n",
       "2 beep   beep     21\n",
       "3 social media    17\n",
       "4 3      3        16\n",
       "5 san    diego    14\n",
       "6 hell   yeah     13"
      ]
     },
     "metadata": {},
     "output_type": "display_data"
    }
   ],
   "source": [
    "bigrams_separated <- bigramsDf %>%\n",
    "  separate(bigram, c(\"word1\", \"word2\"), sep = \" \")\n",
    "\n",
    "bigrams_filtered <- bigrams_separated %>%\n",
    "  filter(!word1 %in% stop_words$word) %>%\n",
    "  filter(!word2 %in% stop_words$word)\n",
    "\n",
    "bigramsDfNoStop <- bigrams_filtered %>%\n",
    "  unite(bigram, word1, word2, sep = \" \")\n",
    "\n",
    "# new bigram counts:\n",
    "bigram_counts <- bigrams_filtered %>% \n",
    "  count(word1, word2, sort = TRUE)\n",
    "\n",
    "head(bigram_counts)"
   ]
  },
  {
   "cell_type": "code",
   "execution_count": 84,
   "metadata": {},
   "outputs": [
    {
     "data": {
      "text/html": [
       "<table>\n",
       "<caption>A tibble: 6 × 2</caption>\n",
       "<thead>\n",
       "\t<tr><th scope=col>line</th><th scope=col>bigram</th></tr>\n",
       "\t<tr><th scope=col>&lt;int&gt;</th><th scope=col>&lt;chr&gt;</th></tr>\n",
       "</thead>\n",
       "<tbody>\n",
       "\t<tr><td>1</td><td>late night     </td></tr>\n",
       "\t<tr><td>1</td><td>night walks    </td></tr>\n",
       "\t<tr><td>2</td><td>orioles vintage</td></tr>\n",
       "\t<tr><td>2</td><td>vintage cap    </td></tr>\n",
       "\t<tr><td>2</td><td>2 o's          </td></tr>\n",
       "\t<tr><td>2</td><td>o's pitchers   </td></tr>\n",
       "</tbody>\n",
       "</table>\n"
      ],
      "text/latex": [
       "A tibble: 6 × 2\n",
       "\\begin{tabular}{r|ll}\n",
       " line & bigram\\\\\n",
       " <int> & <chr>\\\\\n",
       "\\hline\n",
       "\t 1 & late night     \\\\\n",
       "\t 1 & night walks    \\\\\n",
       "\t 2 & orioles vintage\\\\\n",
       "\t 2 & vintage cap    \\\\\n",
       "\t 2 & 2 o's          \\\\\n",
       "\t 2 & o's pitchers   \\\\\n",
       "\\end{tabular}\n"
      ],
      "text/markdown": [
       "\n",
       "A tibble: 6 × 2\n",
       "\n",
       "| line &lt;int&gt; | bigram &lt;chr&gt; |\n",
       "|---|---|\n",
       "| 1 | late night      |\n",
       "| 1 | night walks     |\n",
       "| 2 | orioles vintage |\n",
       "| 2 | vintage cap     |\n",
       "| 2 | 2 o's           |\n",
       "| 2 | o's pitchers    |\n",
       "\n"
      ],
      "text/plain": [
       "  line bigram         \n",
       "1 1    late night     \n",
       "2 1    night walks    \n",
       "3 2    orioles vintage\n",
       "4 2    vintage cap    \n",
       "5 2    2 o's          \n",
       "6 2    o's pitchers   "
      ]
     },
     "metadata": {},
     "output_type": "display_data"
    }
   ],
   "source": [
    "head(bigramsDfNoStop)"
   ]
  },
  {
   "cell_type": "code",
   "execution_count": 89,
   "metadata": {},
   "outputs": [
    {
     "data": {
      "text/html": [
       "<table>\n",
       "<caption>A tibble: 6 × 4</caption>\n",
       "<thead>\n",
       "\t<tr><th scope=col>word1</th><th scope=col>word2</th><th scope=col>word3</th><th scope=col>n</th></tr>\n",
       "\t<tr><th scope=col>&lt;chr&gt;</th><th scope=col>&lt;chr&gt;</th><th scope=col>&lt;chr&gt;</th><th scope=col>&lt;int&gt;</th></tr>\n",
       "</thead>\n",
       "<tbody>\n",
       "\t<tr><td>NA    </td><td>NA     </td><td>NA    </td><td>279</td></tr>\n",
       "\t<tr><td>beep  </td><td>beep   </td><td>beep  </td><td> 20</td></tr>\n",
       "\t<tr><td>hunter</td><td>matt   </td><td>hunter</td><td>  9</td></tr>\n",
       "\t<tr><td>matt  </td><td>hunter </td><td>matt  </td><td>  9</td></tr>\n",
       "\t<tr><td>happy </td><td>mothers</td><td>day   </td><td>  8</td></tr>\n",
       "\t<tr><td>ass   </td><td>ass    </td><td>ass   </td><td>  7</td></tr>\n",
       "</tbody>\n",
       "</table>\n"
      ],
      "text/latex": [
       "A tibble: 6 × 4\n",
       "\\begin{tabular}{r|llll}\n",
       " word1 & word2 & word3 & n\\\\\n",
       " <chr> & <chr> & <chr> & <int>\\\\\n",
       "\\hline\n",
       "\t NA     & NA      & NA     & 279\\\\\n",
       "\t beep   & beep    & beep   &  20\\\\\n",
       "\t hunter & matt    & hunter &   9\\\\\n",
       "\t matt   & hunter  & matt   &   9\\\\\n",
       "\t happy  & mothers & day    &   8\\\\\n",
       "\t ass    & ass     & ass    &   7\\\\\n",
       "\\end{tabular}\n"
      ],
      "text/markdown": [
       "\n",
       "A tibble: 6 × 4\n",
       "\n",
       "| word1 &lt;chr&gt; | word2 &lt;chr&gt; | word3 &lt;chr&gt; | n &lt;int&gt; |\n",
       "|---|---|---|---|\n",
       "| NA     | NA      | NA     | 279 |\n",
       "| beep   | beep    | beep   |  20 |\n",
       "| hunter | matt    | hunter |   9 |\n",
       "| matt   | hunter  | matt   |   9 |\n",
       "| happy  | mothers | day    |   8 |\n",
       "| ass    | ass     | ass    |   7 |\n",
       "\n"
      ],
      "text/plain": [
       "  word1  word2   word3  n  \n",
       "1 NA     NA      NA     279\n",
       "2 beep   beep    beep    20\n",
       "3 hunter matt    hunter   9\n",
       "4 matt   hunter  matt     9\n",
       "5 happy  mothers day      8\n",
       "6 ass    ass     ass      7"
      ]
     },
     "metadata": {},
     "output_type": "display_data"
    }
   ],
   "source": [
    "#Trigrams\n",
    "trigramsDf <- text_df %>%\n",
    "  unnest_tokens(trigram, text, token = \"ngrams\", n = 3)\n",
    "\n",
    "trigramsDf %>%\n",
    "  separate(trigram, c(\"word1\", \"word2\", \"word3\"), sep = \" \") %>%\n",
    "  filter(!word1 %in% stop_words$word,\n",
    "         !word2 %in% stop_words$word,\n",
    "         !word3 %in% stop_words$word) %>%\n",
    "  count(word1, word2, word3, sort = TRUE) %>%\n",
    "  head"
   ]
  },
  {
   "cell_type": "code",
   "execution_count": 92,
   "metadata": {},
   "outputs": [
    {
     "data": {
      "text/html": [
       "<table>\n",
       "<caption>A tibble: 20 × 4</caption>\n",
       "<thead>\n",
       "\t<tr><th scope=col>line</th><th scope=col>word1</th><th scope=col>word2</th><th scope=col>word3</th></tr>\n",
       "\t<tr><th scope=col>&lt;int&gt;</th><th scope=col>&lt;chr&gt;</th><th scope=col>&lt;chr&gt;</th><th scope=col>&lt;chr&gt;</th></tr>\n",
       "</thead>\n",
       "<tbody>\n",
       "\t<tr><td>69</td><td>beep</td><td>beep</td><td>beep</td></tr>\n",
       "\t<tr><td>69</td><td>beep</td><td>beep</td><td>beep</td></tr>\n",
       "\t<tr><td>69</td><td>beep</td><td>beep</td><td>beep</td></tr>\n",
       "\t<tr><td>69</td><td>beep</td><td>beep</td><td>beep</td></tr>\n",
       "\t<tr><td>69</td><td>beep</td><td>beep</td><td>beep</td></tr>\n",
       "\t<tr><td>69</td><td>beep</td><td>beep</td><td>beep</td></tr>\n",
       "\t<tr><td>69</td><td>beep</td><td>beep</td><td>beep</td></tr>\n",
       "\t<tr><td>69</td><td>beep</td><td>beep</td><td>beep</td></tr>\n",
       "\t<tr><td>69</td><td>beep</td><td>beep</td><td>beep</td></tr>\n",
       "\t<tr><td>69</td><td>beep</td><td>beep</td><td>beep</td></tr>\n",
       "\t<tr><td>69</td><td>beep</td><td>beep</td><td>beep</td></tr>\n",
       "\t<tr><td>69</td><td>beep</td><td>beep</td><td>beep</td></tr>\n",
       "\t<tr><td>69</td><td>beep</td><td>beep</td><td>beep</td></tr>\n",
       "\t<tr><td>69</td><td>beep</td><td>beep</td><td>beep</td></tr>\n",
       "\t<tr><td>69</td><td>beep</td><td>beep</td><td>beep</td></tr>\n",
       "\t<tr><td>69</td><td>beep</td><td>beep</td><td>beep</td></tr>\n",
       "\t<tr><td>69</td><td>beep</td><td>beep</td><td>beep</td></tr>\n",
       "\t<tr><td>69</td><td>beep</td><td>beep</td><td>beep</td></tr>\n",
       "\t<tr><td>69</td><td>beep</td><td>beep</td><td>beep</td></tr>\n",
       "\t<tr><td>69</td><td>beep</td><td>beep</td><td>beep</td></tr>\n",
       "</tbody>\n",
       "</table>\n"
      ],
      "text/latex": [
       "A tibble: 20 × 4\n",
       "\\begin{tabular}{r|llll}\n",
       " line & word1 & word2 & word3\\\\\n",
       " <int> & <chr> & <chr> & <chr>\\\\\n",
       "\\hline\n",
       "\t 69 & beep & beep & beep\\\\\n",
       "\t 69 & beep & beep & beep\\\\\n",
       "\t 69 & beep & beep & beep\\\\\n",
       "\t 69 & beep & beep & beep\\\\\n",
       "\t 69 & beep & beep & beep\\\\\n",
       "\t 69 & beep & beep & beep\\\\\n",
       "\t 69 & beep & beep & beep\\\\\n",
       "\t 69 & beep & beep & beep\\\\\n",
       "\t 69 & beep & beep & beep\\\\\n",
       "\t 69 & beep & beep & beep\\\\\n",
       "\t 69 & beep & beep & beep\\\\\n",
       "\t 69 & beep & beep & beep\\\\\n",
       "\t 69 & beep & beep & beep\\\\\n",
       "\t 69 & beep & beep & beep\\\\\n",
       "\t 69 & beep & beep & beep\\\\\n",
       "\t 69 & beep & beep & beep\\\\\n",
       "\t 69 & beep & beep & beep\\\\\n",
       "\t 69 & beep & beep & beep\\\\\n",
       "\t 69 & beep & beep & beep\\\\\n",
       "\t 69 & beep & beep & beep\\\\\n",
       "\\end{tabular}\n"
      ],
      "text/markdown": [
       "\n",
       "A tibble: 20 × 4\n",
       "\n",
       "| line &lt;int&gt; | word1 &lt;chr&gt; | word2 &lt;chr&gt; | word3 &lt;chr&gt; |\n",
       "|---|---|---|---|\n",
       "| 69 | beep | beep | beep |\n",
       "| 69 | beep | beep | beep |\n",
       "| 69 | beep | beep | beep |\n",
       "| 69 | beep | beep | beep |\n",
       "| 69 | beep | beep | beep |\n",
       "| 69 | beep | beep | beep |\n",
       "| 69 | beep | beep | beep |\n",
       "| 69 | beep | beep | beep |\n",
       "| 69 | beep | beep | beep |\n",
       "| 69 | beep | beep | beep |\n",
       "| 69 | beep | beep | beep |\n",
       "| 69 | beep | beep | beep |\n",
       "| 69 | beep | beep | beep |\n",
       "| 69 | beep | beep | beep |\n",
       "| 69 | beep | beep | beep |\n",
       "| 69 | beep | beep | beep |\n",
       "| 69 | beep | beep | beep |\n",
       "| 69 | beep | beep | beep |\n",
       "| 69 | beep | beep | beep |\n",
       "| 69 | beep | beep | beep |\n",
       "\n"
      ],
      "text/plain": [
       "   line word1 word2 word3\n",
       "1  69   beep  beep  beep \n",
       "2  69   beep  beep  beep \n",
       "3  69   beep  beep  beep \n",
       "4  69   beep  beep  beep \n",
       "5  69   beep  beep  beep \n",
       "6  69   beep  beep  beep \n",
       "7  69   beep  beep  beep \n",
       "8  69   beep  beep  beep \n",
       "9  69   beep  beep  beep \n",
       "10 69   beep  beep  beep \n",
       "11 69   beep  beep  beep \n",
       "12 69   beep  beep  beep \n",
       "13 69   beep  beep  beep \n",
       "14 69   beep  beep  beep \n",
       "15 69   beep  beep  beep \n",
       "16 69   beep  beep  beep \n",
       "17 69   beep  beep  beep \n",
       "18 69   beep  beep  beep \n",
       "19 69   beep  beep  beep \n",
       "20 69   beep  beep  beep "
      ]
     },
     "metadata": {},
     "output_type": "display_data"
    }
   ],
   "source": [
    "# who is saying \"beep beep beep\"?\n",
    "trigramsDf %>%\n",
    "  separate(trigram, c(\"word1\", \"word2\", \"word3\"), sep = \" \") %>%\n",
    "  filter(word1 == \"beep\",\n",
    "         word2 == \"beep\",\n",
    "         word3 == \"beep\")"
   ]
  },
  {
   "cell_type": "code",
   "execution_count": 98,
   "metadata": {},
   "outputs": [
    {
     "data": {
      "text/html": [
       "<table>\n",
       "<caption>A tibble: 1 × 2</caption>\n",
       "<thead>\n",
       "\t<tr><th scope=col>line</th><th scope=col>text</th></tr>\n",
       "\t<tr><th scope=col>&lt;int&gt;</th><th scope=col>&lt;chr&gt;</th></tr>\n",
       "</thead>\n",
       "<tbody>\n",
       "\t<tr><td>69</td><td>beep beep beep beep beep beep beep beep beep beep beep beep beep beep beep beep beep beep beep beep beep beep , I win .</td></tr>\n",
       "</tbody>\n",
       "</table>\n"
      ],
      "text/latex": [
       "A tibble: 1 × 2\n",
       "\\begin{tabular}{r|ll}\n",
       " line & text\\\\\n",
       " <int> & <chr>\\\\\n",
       "\\hline\n",
       "\t 69 & beep beep beep beep beep beep beep beep beep beep beep beep beep beep beep beep beep beep beep beep beep beep , I win .\\\\\n",
       "\\end{tabular}\n"
      ],
      "text/markdown": [
       "\n",
       "A tibble: 1 × 2\n",
       "\n",
       "| line &lt;int&gt; | text &lt;chr&gt; |\n",
       "|---|---|\n",
       "| 69 | beep beep beep beep beep beep beep beep beep beep beep beep beep beep beep beep beep beep beep beep beep beep , I win . |\n",
       "\n"
      ],
      "text/plain": [
       "  line\n",
       "1 69  \n",
       "  text                                                                                                                   \n",
       "1 beep beep beep beep beep beep beep beep beep beep beep beep beep beep beep beep beep beep beep beep beep beep , I win ."
      ]
     },
     "metadata": {},
     "output_type": "display_data"
    }
   ],
   "source": [
    "text_df[69,]"
   ]
  },
  {
   "cell_type": "code",
   "execution_count": 99,
   "metadata": {},
   "outputs": [],
   "source": [
    "# ^^ so it was just one tweet full of 'beeps'"
   ]
  },
  {
   "cell_type": "code",
   "execution_count": 103,
   "metadata": {},
   "outputs": [
    {
     "data": {
      "text/html": [
       "<table>\n",
       "<caption>A tibble: 6 × 4</caption>\n",
       "<thead>\n",
       "\t<tr><th scope=col>line</th><th scope=col>word1</th><th scope=col>word2</th><th scope=col>word3</th></tr>\n",
       "\t<tr><th scope=col>&lt;int&gt;</th><th scope=col>&lt;chr&gt;</th><th scope=col>&lt;chr&gt;</th><th scope=col>&lt;chr&gt;</th></tr>\n",
       "</thead>\n",
       "<tbody>\n",
       "\t<tr><td>  4</td><td>NA</td><td>NA</td><td>NA</td></tr>\n",
       "\t<tr><td> 41</td><td>NA</td><td>NA</td><td>NA</td></tr>\n",
       "\t<tr><td> 64</td><td>NA</td><td>NA</td><td>NA</td></tr>\n",
       "\t<tr><td>109</td><td>NA</td><td>NA</td><td>NA</td></tr>\n",
       "\t<tr><td>118</td><td>NA</td><td>NA</td><td>NA</td></tr>\n",
       "\t<tr><td>141</td><td>NA</td><td>NA</td><td>NA</td></tr>\n",
       "</tbody>\n",
       "</table>\n"
      ],
      "text/latex": [
       "A tibble: 6 × 4\n",
       "\\begin{tabular}{r|llll}\n",
       " line & word1 & word2 & word3\\\\\n",
       " <int> & <chr> & <chr> & <chr>\\\\\n",
       "\\hline\n",
       "\t   4 & NA & NA & NA\\\\\n",
       "\t  41 & NA & NA & NA\\\\\n",
       "\t  64 & NA & NA & NA\\\\\n",
       "\t 109 & NA & NA & NA\\\\\n",
       "\t 118 & NA & NA & NA\\\\\n",
       "\t 141 & NA & NA & NA\\\\\n",
       "\\end{tabular}\n"
      ],
      "text/markdown": [
       "\n",
       "A tibble: 6 × 4\n",
       "\n",
       "| line &lt;int&gt; | word1 &lt;chr&gt; | word2 &lt;chr&gt; | word3 &lt;chr&gt; |\n",
       "|---|---|---|---|\n",
       "|   4 | NA | NA | NA |\n",
       "|  41 | NA | NA | NA |\n",
       "|  64 | NA | NA | NA |\n",
       "| 109 | NA | NA | NA |\n",
       "| 118 | NA | NA | NA |\n",
       "| 141 | NA | NA | NA |\n",
       "\n"
      ],
      "text/plain": [
       "  line word1 word2 word3\n",
       "1   4  NA    NA    NA   \n",
       "2  41  NA    NA    NA   \n",
       "3  64  NA    NA    NA   \n",
       "4 109  NA    NA    NA   \n",
       "5 118  NA    NA    NA   \n",
       "6 141  NA    NA    NA   "
      ]
     },
     "metadata": {},
     "output_type": "display_data"
    }
   ],
   "source": [
    "# What are the NA NA NA trigrams?\n",
    "trigramsDf %>%\n",
    "  separate(trigram, c(\"word1\", \"word2\", \"word3\"), sep = \" \") %>%\n",
    "  filter(is.na(word1),\n",
    "         is.na(word2),\n",
    "         is.na(word3)) %>%\n",
    "  head"
   ]
  },
  {
   "cell_type": "code",
   "execution_count": 108,
   "metadata": {},
   "outputs": [
    {
     "data": {
      "text/html": [
       "<table>\n",
       "<caption>A tibble: 4 × 2</caption>\n",
       "<thead>\n",
       "\t<tr><th scope=col>line</th><th scope=col>text</th></tr>\n",
       "\t<tr><th scope=col>&lt;int&gt;</th><th scope=col>&lt;chr&gt;</th></tr>\n",
       "</thead>\n",
       "<tbody>\n",
       "\t<tr><td>  4</td><td>Game time!       </td></tr>\n",
       "\t<tr><td> 41</td><td>so sweet         </td></tr>\n",
       "\t<tr><td> 64</td><td>hey girl!        </td></tr>\n",
       "\t<tr><td>109</td><td>you're awesome :)</td></tr>\n",
       "</tbody>\n",
       "</table>\n"
      ],
      "text/latex": [
       "A tibble: 4 × 2\n",
       "\\begin{tabular}{r|ll}\n",
       " line & text\\\\\n",
       " <int> & <chr>\\\\\n",
       "\\hline\n",
       "\t   4 & Game time!       \\\\\n",
       "\t  41 & so sweet         \\\\\n",
       "\t  64 & hey girl!        \\\\\n",
       "\t 109 & you're awesome :)\\\\\n",
       "\\end{tabular}\n"
      ],
      "text/markdown": [
       "\n",
       "A tibble: 4 × 2\n",
       "\n",
       "| line &lt;int&gt; | text &lt;chr&gt; |\n",
       "|---|---|\n",
       "|   4 | Game time!        |\n",
       "|  41 | so sweet          |\n",
       "|  64 | hey girl!         |\n",
       "| 109 | you're awesome :) |\n",
       "\n"
      ],
      "text/plain": [
       "  line text             \n",
       "1   4  Game time!       \n",
       "2  41  so sweet         \n",
       "3  64  hey girl!        \n",
       "4 109  you're awesome :)"
      ]
     },
     "metadata": {},
     "output_type": "display_data"
    }
   ],
   "source": [
    "text_df[c(4,41,64,109),]"
   ]
  },
  {
   "cell_type": "code",
   "execution_count": 116,
   "metadata": {},
   "outputs": [],
   "source": [
    "# ^^ looks like any tweet shorter than 3 tokens will come out as a <NA NA NA> trigram"
   ]
  },
  {
   "cell_type": "code",
   "execution_count": 279,
   "metadata": {},
   "outputs": [
    {
     "data": {
      "text/plain": [
       "IGRAPH 60dfdaa DN-- 46 32 -- \n",
       "+ attr: name (v/c), n (e/n)\n",
       "+ edges from 60dfdaa (vertex names):\n",
       " [1] happy      ->birthday  beep       ->beep      social     ->media    \n",
       " [4] 3          ->3         san        ->diego     hell       ->yeah     \n",
       " [7] 1          ->2         mothers    ->day       ice        ->cream    \n",
       "[10] rt         ->rt        matt       ->hunter    merry      ->christmas\n",
       "[13] 2          ->days      hunter     ->matt      ass        ->ass      \n",
       "[16] ha         ->ha        happy      ->friday    happy      ->mothers  \n",
       "[19] fall       ->asleep    happy      ->hour      real       ->estate   \n",
       "[22] stay       ->tuned     valentine's->day       amazing    ->3        \n",
       "+ ... omitted several edges"
      ]
     },
     "metadata": {},
     "output_type": "display_data"
    }
   ],
   "source": [
    "bigram_graph <- bigram_counts %>%\n",
    "  filter(n > 5) %>%\n",
    "  graph_from_data_frame()\n",
    "\n",
    "bigram_graph"
   ]
  },
  {
   "cell_type": "code",
   "execution_count": 280,
   "metadata": {},
   "outputs": [
    {
     "data": {
      "image/png": "[encoded data removed]",
      "text/plain": [
       "plot without title"
      ]
     },
     "metadata": {},
     "output_type": "display_data"
    }
   ],
   "source": [
    "library('ggraph')\n",
    "set.seed(2016)\n",
    "\n",
    "a <- grid::arrow(type = \"closed\", length = unit(.15, \"inches\"))\n",
    "\n",
    "ggraph(bigram_graph, layout = \"fr\") +\n",
    "  geom_edge_link(aes(edge_alpha = n), show.legend = FALSE,\n",
    "                 arrow = a, end_cap = circle(.07, 'inches')) +\n",
    "  geom_node_point(color = \"lightblue\", size = 5) +\n",
    "  geom_node_text(aes(label = name), vjust = 1, hjust = 1) +\n",
    "  theme_void()"
   ]
  },
  {
   "cell_type": "code",
   "execution_count": 154,
   "metadata": {},
   "outputs": [
    {
     "data": {
      "text/html": [
       "<table>\n",
       "<caption>A tibble: 2 × 3</caption>\n",
       "<thead>\n",
       "\t<tr><th scope=col>line</th><th scope=col>word1</th><th scope=col>word2</th></tr>\n",
       "\t<tr><th scope=col>&lt;int&gt;</th><th scope=col>&lt;chr&gt;</th><th scope=col>&lt;chr&gt;</th></tr>\n",
       "</thead>\n",
       "<tbody>\n",
       "\t<tr><td>3701</td><td>dirt</td><td>and </td></tr>\n",
       "\t<tr><td>5851</td><td>dirt</td><td>poor</td></tr>\n",
       "</tbody>\n",
       "</table>\n"
      ],
      "text/latex": [
       "A tibble: 2 × 3\n",
       "\\begin{tabular}{r|lll}\n",
       " line & word1 & word2\\\\\n",
       " <int> & <chr> & <chr>\\\\\n",
       "\\hline\n",
       "\t 3701 & dirt & and \\\\\n",
       "\t 5851 & dirt & poor\\\\\n",
       "\\end{tabular}\n"
      ],
      "text/markdown": [
       "\n",
       "A tibble: 2 × 3\n",
       "\n",
       "| line &lt;int&gt; | word1 &lt;chr&gt; | word2 &lt;chr&gt; |\n",
       "|---|---|---|\n",
       "| 3701 | dirt | and  |\n",
       "| 5851 | dirt | poor |\n",
       "\n"
      ],
      "text/plain": [
       "  line word1 word2\n",
       "1 3701 dirt  and  \n",
       "2 5851 dirt  poor "
      ]
     },
     "metadata": {},
     "output_type": "display_data"
    }
   ],
   "source": [
    "selectedBigrams <-bigramsDf %>%\n",
    "  separate(bigram, c(\"word1\", \"word2\"), sep = \" \") %>%\n",
    "  filter(word1 == \"dirt\") %>%\n",
    "  head\n",
    "selectedBigrams"
   ]
  },
  {
   "cell_type": "code",
   "execution_count": 156,
   "metadata": {},
   "outputs": [
    {
     "data": {
      "text/html": [
       "<table>\n",
       "<caption>A tibble: 2 × 2</caption>\n",
       "<thead>\n",
       "\t<tr><th scope=col>line</th><th scope=col>text</th></tr>\n",
       "\t<tr><th scope=col>&lt;int&gt;</th><th scope=col>&lt;chr&gt;</th></tr>\n",
       "</thead>\n",
       "<tbody>\n",
       "\t<tr><td>3701</td><td>Delicious! RT I know, right?! RT : Dirt and worms? Yum and fun!</td></tr>\n",
       "\t<tr><td>5851</td><td>have you heard Dirt Poor Robins' version?                      </td></tr>\n",
       "</tbody>\n",
       "</table>\n"
      ],
      "text/latex": [
       "A tibble: 2 × 2\n",
       "\\begin{tabular}{r|ll}\n",
       " line & text\\\\\n",
       " <int> & <chr>\\\\\n",
       "\\hline\n",
       "\t 3701 & Delicious! RT I know, right?! RT : Dirt and worms? Yum and fun!\\\\\n",
       "\t 5851 & have you heard Dirt Poor Robins' version?                      \\\\\n",
       "\\end{tabular}\n"
      ],
      "text/markdown": [
       "\n",
       "A tibble: 2 × 2\n",
       "\n",
       "| line &lt;int&gt; | text &lt;chr&gt; |\n",
       "|---|---|\n",
       "| 3701 | Delicious! RT I know, right?! RT : Dirt and worms? Yum and fun! |\n",
       "| 5851 | have you heard Dirt Poor Robins' version?                       |\n",
       "\n"
      ],
      "text/plain": [
       "  line text                                                           \n",
       "1 3701 Delicious! RT I know, right?! RT : Dirt and worms? Yum and fun!\n",
       "2 5851 have you heard Dirt Poor Robins' version?                      "
      ]
     },
     "metadata": {},
     "output_type": "display_data"
    }
   ],
   "source": [
    "text_df[selectedBigrams$line,]"
   ]
  },
  {
   "cell_type": "code",
   "execution_count": 162,
   "metadata": {},
   "outputs": [
    {
     "data": {
      "text/plain": [
       "IGRAPH 43b20ba DN-- 17 10 -- \n",
       "+ attr: name (v/c), n (e/n)\n",
       "+ edges from 43b20ba (vertex names):\n",
       " [1] happy  ->birthday beep   ->beep     social ->media    3      ->3       \n",
       " [5] san    ->diego    hell   ->yeah     1      ->2        mothers->day     \n",
       " [9] ice    ->cream    rt     ->rt      "
      ]
     },
     "metadata": {},
     "output_type": "display_data"
    }
   ],
   "source": [
    "bigram_graph"
   ]
  },
  {
   "cell_type": "code",
   "execution_count": 166,
   "metadata": {},
   "outputs": [
    {
     "data": {
      "text/html": [
       "<table>\n",
       "<caption>A tibble: 10 × 3</caption>\n",
       "<thead>\n",
       "\t<tr><th scope=col>word1</th><th scope=col>word2</th><th scope=col>n</th></tr>\n",
       "\t<tr><th scope=col>&lt;chr&gt;</th><th scope=col>&lt;chr&gt;</th><th scope=col>&lt;int&gt;</th></tr>\n",
       "</thead>\n",
       "<tbody>\n",
       "\t<tr><td>happy  </td><td>birthday</td><td>34</td></tr>\n",
       "\t<tr><td>beep   </td><td>beep    </td><td>21</td></tr>\n",
       "\t<tr><td>social </td><td>media   </td><td>17</td></tr>\n",
       "\t<tr><td>3      </td><td>3       </td><td>16</td></tr>\n",
       "\t<tr><td>san    </td><td>diego   </td><td>14</td></tr>\n",
       "\t<tr><td>hell   </td><td>yeah    </td><td>13</td></tr>\n",
       "\t<tr><td>1      </td><td>2       </td><td>12</td></tr>\n",
       "\t<tr><td>mothers</td><td>day     </td><td>12</td></tr>\n",
       "\t<tr><td>ice    </td><td>cream   </td><td>11</td></tr>\n",
       "\t<tr><td>rt     </td><td>rt      </td><td>11</td></tr>\n",
       "</tbody>\n",
       "</table>\n"
      ],
      "text/latex": [
       "A tibble: 10 × 3\n",
       "\\begin{tabular}{r|lll}\n",
       " word1 & word2 & n\\\\\n",
       " <chr> & <chr> & <int>\\\\\n",
       "\\hline\n",
       "\t happy   & birthday & 34\\\\\n",
       "\t beep    & beep     & 21\\\\\n",
       "\t social  & media    & 17\\\\\n",
       "\t 3       & 3        & 16\\\\\n",
       "\t san     & diego    & 14\\\\\n",
       "\t hell    & yeah     & 13\\\\\n",
       "\t 1       & 2        & 12\\\\\n",
       "\t mothers & day      & 12\\\\\n",
       "\t ice     & cream    & 11\\\\\n",
       "\t rt      & rt       & 11\\\\\n",
       "\\end{tabular}\n"
      ],
      "text/markdown": [
       "\n",
       "A tibble: 10 × 3\n",
       "\n",
       "| word1 &lt;chr&gt; | word2 &lt;chr&gt; | n &lt;int&gt; |\n",
       "|---|---|---|\n",
       "| happy   | birthday | 34 |\n",
       "| beep    | beep     | 21 |\n",
       "| social  | media    | 17 |\n",
       "| 3       | 3        | 16 |\n",
       "| san     | diego    | 14 |\n",
       "| hell    | yeah     | 13 |\n",
       "| 1       | 2        | 12 |\n",
       "| mothers | day      | 12 |\n",
       "| ice     | cream    | 11 |\n",
       "| rt      | rt       | 11 |\n",
       "\n"
      ],
      "text/plain": [
       "   word1   word2    n \n",
       "1  happy   birthday 34\n",
       "2  beep    beep     21\n",
       "3  social  media    17\n",
       "4  3       3        16\n",
       "5  san     diego    14\n",
       "6  hell    yeah     13\n",
       "7  1       2        12\n",
       "8  mothers day      12\n",
       "9  ice     cream    11\n",
       "10 rt      rt       11"
      ]
     },
     "metadata": {},
     "output_type": "display_data"
    }
   ],
   "source": [
    "bigram_counts %>%\n",
    "  filter(n > 10)"
   ]
  },
  {
   "cell_type": "code",
   "execution_count": 180,
   "metadata": {},
   "outputs": [
    {
     "data": {
      "text/html": [
       "<table>\n",
       "<caption>A tibble: 6 × 3</caption>\n",
       "<thead>\n",
       "\t<tr><th scope=col>word1</th><th scope=col>word2</th><th scope=col>n</th></tr>\n",
       "\t<tr><th scope=col>&lt;chr&gt;</th><th scope=col>&lt;chr&gt;</th><th scope=col>&lt;int&gt;</th></tr>\n",
       "</thead>\n",
       "<tbody>\n",
       "\t<tr><td>happy </td><td>birthday</td><td>34</td></tr>\n",
       "\t<tr><td>beep  </td><td>beep    </td><td>21</td></tr>\n",
       "\t<tr><td>social</td><td>media   </td><td>17</td></tr>\n",
       "\t<tr><td>3     </td><td>3       </td><td>16</td></tr>\n",
       "\t<tr><td>san   </td><td>diego   </td><td>14</td></tr>\n",
       "\t<tr><td>hell  </td><td>yeah    </td><td>13</td></tr>\n",
       "</tbody>\n",
       "</table>\n"
      ],
      "text/latex": [
       "A tibble: 6 × 3\n",
       "\\begin{tabular}{r|lll}\n",
       " word1 & word2 & n\\\\\n",
       " <chr> & <chr> & <int>\\\\\n",
       "\\hline\n",
       "\t happy  & birthday & 34\\\\\n",
       "\t beep   & beep     & 21\\\\\n",
       "\t social & media    & 17\\\\\n",
       "\t 3      & 3        & 16\\\\\n",
       "\t san    & diego    & 14\\\\\n",
       "\t hell   & yeah     & 13\\\\\n",
       "\\end{tabular}\n"
      ],
      "text/markdown": [
       "\n",
       "A tibble: 6 × 3\n",
       "\n",
       "| word1 &lt;chr&gt; | word2 &lt;chr&gt; | n &lt;int&gt; |\n",
       "|---|---|---|\n",
       "| happy  | birthday | 34 |\n",
       "| beep   | beep     | 21 |\n",
       "| social | media    | 17 |\n",
       "| 3      | 3        | 16 |\n",
       "| san    | diego    | 14 |\n",
       "| hell   | yeah     | 13 |\n",
       "\n"
      ],
      "text/plain": [
       "  word1  word2    n \n",
       "1 happy  birthday 34\n",
       "2 beep   beep     21\n",
       "3 social media    17\n",
       "4 3      3        16\n",
       "5 san    diego    14\n",
       "6 hell   yeah     13"
      ]
     },
     "metadata": {},
     "output_type": "display_data"
    }
   ],
   "source": [
    "head(bigram_counts)"
   ]
  },
  {
   "cell_type": "code",
   "execution_count": 281,
   "metadata": {},
   "outputs": [
    {
     "data": {
      "text/html": [
       "<table>\n",
       "<caption>A tibble: 6 × 5</caption>\n",
       "<thead>\n",
       "\t<tr><th scope=col>word1</th><th scope=col>word2</th><th scope=col>n</th><th scope=col>word1Labelled</th><th scope=col>word2Labelled</th></tr>\n",
       "\t<tr><th scope=col>&lt;chr&gt;</th><th scope=col>&lt;chr&gt;</th><th scope=col>&lt;int&gt;</th><th scope=col>&lt;chr&gt;</th><th scope=col>&lt;chr&gt;</th></tr>\n",
       "</thead>\n",
       "<tbody>\n",
       "\t<tr><td>happy </td><td>birthday</td><td>34</td><td>1:happy </td><td>2:birthday</td></tr>\n",
       "\t<tr><td>beep  </td><td>beep    </td><td>21</td><td>1:beep  </td><td>2:beep    </td></tr>\n",
       "\t<tr><td>social</td><td>media   </td><td>17</td><td>1:social</td><td>2:media   </td></tr>\n",
       "\t<tr><td>3     </td><td>3       </td><td>16</td><td>1:3     </td><td>2:3       </td></tr>\n",
       "\t<tr><td>san   </td><td>diego   </td><td>14</td><td>1:san   </td><td>2:diego   </td></tr>\n",
       "\t<tr><td>hell  </td><td>yeah    </td><td>13</td><td>1:hell  </td><td>2:yeah    </td></tr>\n",
       "</tbody>\n",
       "</table>\n"
      ],
      "text/latex": [
       "A tibble: 6 × 5\n",
       "\\begin{tabular}{r|lllll}\n",
       " word1 & word2 & n & word1Labelled & word2Labelled\\\\\n",
       " <chr> & <chr> & <int> & <chr> & <chr>\\\\\n",
       "\\hline\n",
       "\t happy  & birthday & 34 & 1:happy  & 2:birthday\\\\\n",
       "\t beep   & beep     & 21 & 1:beep   & 2:beep    \\\\\n",
       "\t social & media    & 17 & 1:social & 2:media   \\\\\n",
       "\t 3      & 3        & 16 & 1:3      & 2:3       \\\\\n",
       "\t san    & diego    & 14 & 1:san    & 2:diego   \\\\\n",
       "\t hell   & yeah     & 13 & 1:hell   & 2:yeah    \\\\\n",
       "\\end{tabular}\n"
      ],
      "text/markdown": [
       "\n",
       "A tibble: 6 × 5\n",
       "\n",
       "| word1 &lt;chr&gt; | word2 &lt;chr&gt; | n &lt;int&gt; | word1Labelled &lt;chr&gt; | word2Labelled &lt;chr&gt; |\n",
       "|---|---|---|---|---|\n",
       "| happy  | birthday | 34 | 1:happy  | 2:birthday |\n",
       "| beep   | beep     | 21 | 1:beep   | 2:beep     |\n",
       "| social | media    | 17 | 1:social | 2:media    |\n",
       "| 3      | 3        | 16 | 1:3      | 2:3        |\n",
       "| san    | diego    | 14 | 1:san    | 2:diego    |\n",
       "| hell   | yeah     | 13 | 1:hell   | 2:yeah     |\n",
       "\n"
      ],
      "text/plain": [
       "  word1  word2    n  word1Labelled word2Labelled\n",
       "1 happy  birthday 34 1:happy       2:birthday   \n",
       "2 beep   beep     21 1:beep        2:beep       \n",
       "3 social media    17 1:social      2:media      \n",
       "4 3      3        16 1:3           2:3          \n",
       "5 san    diego    14 1:san         2:diego      \n",
       "6 hell   yeah     13 1:hell        2:yeah       "
      ]
     },
     "metadata": {},
     "output_type": "display_data"
    }
   ],
   "source": [
    "labelled_bigrams <- bigram_counts %>%\n",
    "    mutate(\n",
    "        word1Labelled = paste0(\"1:\",word1),\n",
    "        word2Labelled = paste0(\"2:\",word2),\n",
    "        n = n\n",
    "    )\n",
    "\n",
    "head(labelled_bigrams)"
   ]
  },
  {
   "cell_type": "code",
   "execution_count": 178,
   "metadata": {},
   "outputs": [],
   "source": [
    "bigram = \"these late\""
   ]
  },
  {
   "cell_type": "code",
   "execution_count": 275,
   "metadata": {},
   "outputs": [
    {
     "data": {
      "image/png": "[encoded data removed]",
      "text/plain": [
       "Plot with title “”"
      ]
     },
     "metadata": {},
     "output_type": "display_data"
    }
   ],
   "source": [
    "# Plotting tripartite graphs (example)\n",
    "# https://stackoverflow.com/questions/28974206/visualizing-graph-network-with-3-layeres-tripartite-in-r-igraph\n",
    "edge_P_C <- read.table(text=\"P C\n",
    "A B\n",
    "A C\", header=T)\n",
    "\n",
    "edge_C_G <- read.table(text=\"C G\n",
    "B D\n",
    "B E\n",
    "C F\", header=T)\n",
    "\n",
    "edge_P_G <- read.table(text=\"P G\n",
    "A G\", header=T)\n",
    "\n",
    "\n",
    "#2. Create graph\n",
    "all_edges <- do.call(rbind,\n",
    "  lapply( list(edge_C_G, edge_P_C, edge_P_G), function(x) setNames(x, c(\"1\",\"2\")) )\n",
    ")\n",
    "\n",
    "g1 <- graph.data.frame(d = all_edges, directed = TRUE)\n",
    "\n",
    "                     \n",
    "#3. Plot                     \n",
    "v_layers_df <- unique( rbind(\n",
    "  expand.grid( ID = edge_P_C$P, Layer = 1),\n",
    "  expand.grid( ID = edge_P_G$P, Layer = 1),\n",
    "  expand.grid( ID = edge_P_C$C, Layer = 2),\n",
    "  expand.grid( ID = edge_C_G$C, Layer = 2),\n",
    "  expand.grid( ID = edge_C_G$G, Layer = 3),\n",
    "  expand.grid( ID = edge_P_G$G, Layer = 3)\n",
    "))\n",
    "\n",
    "v_layers <- setNames( v_layers_df$Layer, v_layers_df$ID)\n",
    "V(g1)$layer <- v_layers[V(g1)$name]\n",
    "                     \n",
    "layout.k_partite <- function(g) {\n",
    "  l <- layout.sugiyama(g)$layout[,2:1]\n",
    "  l[,1] <- unlist(V(g)$layer)\n",
    "  l[,2] <- - l[,2] + 1 + max(l[,2])\n",
    "  l\n",
    "}\n",
    "                     \n",
    "plot(g1, layout = layout.k_partite(g1))"
   ]
  },
  {
   "cell_type": "code",
   "execution_count": 234,
   "metadata": {},
   "outputs": [
    {
     "data": {
      "text/plain": [
       "IGRAPH 3e345f7 DN-- 7 6 -- \n",
       "+ attr: name (v/c), layer (v/n)\n",
       "+ edges from 3e345f7 (vertex names):\n",
       "[1] B->D B->E C->F A->B A->C A->G"
      ]
     },
     "metadata": {},
     "output_type": "display_data"
    }
   ],
   "source": [
    "g1"
   ]
  },
  {
   "cell_type": "code",
   "execution_count": 394,
   "metadata": {},
   "outputs": [
    {
     "data": {
      "text/html": [
       "<table>\n",
       "<caption>A tibble: 6 × 5</caption>\n",
       "<thead>\n",
       "\t<tr><th scope=col>word1</th><th scope=col>word2</th><th scope=col>n</th><th scope=col>word1Vertex</th><th scope=col>word2Labelled</th></tr>\n",
       "\t<tr><th scope=col>&lt;chr&gt;</th><th scope=col>&lt;chr&gt;</th><th scope=col>&lt;int&gt;</th><th scope=col>&lt;chr&gt;</th><th scope=col>&lt;chr&gt;</th></tr>\n",
       "</thead>\n",
       "<tbody>\n",
       "\t<tr><td>happy </td><td>birthday</td><td>34</td><td>1:happy </td><td>2:birthday</td></tr>\n",
       "\t<tr><td>beep  </td><td>beep    </td><td>21</td><td>1:beep  </td><td>2:beep    </td></tr>\n",
       "\t<tr><td>social</td><td>media   </td><td>17</td><td>1:social</td><td>2:media   </td></tr>\n",
       "\t<tr><td>3     </td><td>3       </td><td>16</td><td>1:3     </td><td>2:3       </td></tr>\n",
       "\t<tr><td>san   </td><td>diego   </td><td>14</td><td>1:san   </td><td>2:diego   </td></tr>\n",
       "\t<tr><td>hell  </td><td>yeah    </td><td>13</td><td>1:hell  </td><td>2:yeah    </td></tr>\n",
       "</tbody>\n",
       "</table>\n"
      ],
      "text/latex": [
       "A tibble: 6 × 5\n",
       "\\begin{tabular}{r|lllll}\n",
       " word1 & word2 & n & word1Vertex & word2Labelled\\\\\n",
       " <chr> & <chr> & <int> & <chr> & <chr>\\\\\n",
       "\\hline\n",
       "\t happy  & birthday & 34 & 1:happy  & 2:birthday\\\\\n",
       "\t beep   & beep     & 21 & 1:beep   & 2:beep    \\\\\n",
       "\t social & media    & 17 & 1:social & 2:media   \\\\\n",
       "\t 3      & 3        & 16 & 1:3      & 2:3       \\\\\n",
       "\t san    & diego    & 14 & 1:san    & 2:diego   \\\\\n",
       "\t hell   & yeah     & 13 & 1:hell   & 2:yeah    \\\\\n",
       "\\end{tabular}\n"
      ],
      "text/markdown": [
       "\n",
       "A tibble: 6 × 5\n",
       "\n",
       "| word1 &lt;chr&gt; | word2 &lt;chr&gt; | n &lt;int&gt; | word1Vertex &lt;chr&gt; | word2Labelled &lt;chr&gt; |\n",
       "|---|---|---|---|---|\n",
       "| happy  | birthday | 34 | 1:happy  | 2:birthday |\n",
       "| beep   | beep     | 21 | 1:beep   | 2:beep     |\n",
       "| social | media    | 17 | 1:social | 2:media    |\n",
       "| 3      | 3        | 16 | 1:3      | 2:3        |\n",
       "| san    | diego    | 14 | 1:san    | 2:diego    |\n",
       "| hell   | yeah     | 13 | 1:hell   | 2:yeah     |\n",
       "\n"
      ],
      "text/plain": [
       "  word1  word2    n  word1Vertex word2Labelled\n",
       "1 happy  birthday 34 1:happy     2:birthday   \n",
       "2 beep   beep     21 1:beep      2:beep       \n",
       "3 social media    17 1:social    2:media      \n",
       "4 3      3        16 1:3         2:3          \n",
       "5 san    diego    14 1:san       2:diego      \n",
       "6 hell   yeah     13 1:hell      2:yeah       "
      ]
     },
     "metadata": {},
     "output_type": "display_data"
    }
   ],
   "source": [
    "head(labelled_bigrams)"
   ]
  },
  {
   "cell_type": "code",
   "execution_count": 395,
   "metadata": {},
   "outputs": [
    {
     "ename": "ERROR",
     "evalue": "Unknown column `word1Labelled` ",
     "output_type": "error",
     "traceback": [
      "Unknown column `word1Labelled` Traceback:\n",
      "1. labelled_bigrams %>% filter(n > 5) %>% select(\"word1Labelled\", \n .     \"word2Labelled\") %>% graph_from_data_frame()",
      "2. withVisible(eval(quote(`_fseq`(`_lhs`)), env, env))",
      "3. eval(quote(`_fseq`(`_lhs`)), env, env)",
      "4. eval(quote(`_fseq`(`_lhs`)), env, env)",
      "5. `_fseq`(`_lhs`)",
      "6. freduce(value, `_function_list`)",
      "7. function_list[[i]](value)",
      "8. select(., \"word1Labelled\", \"word2Labelled\")",
      "9. select.data.frame(., \"word1Labelled\", \"word2Labelled\")",
      "10. tidyselect::vars_select(sel_vars(.data), !(!(!quos(...))))",
      "11. vars_select_eval(.vars, quos)",
      "12. map_if(ind_list, is_character, match_strings, names = TRUE)",
      "13. map(.x[sel], .f, ...)",
      "14. .f(.x[[i]], ...)",
      "15. bad_unknown_vars(vars, unknown)",
      "16. abort(glue(\"Unknown { thing } { fmt_args(unknown) } \"))"
     ]
    }
   ],
   "source": [
    "bigram_graph <- labelled_bigrams %>%\n",
    "  filter(n > 5) %>%\n",
    "  select('word1Labelled', 'word2Labelled') %>% \n",
    "  graph_from_data_frame()\n",
    "\n",
    "bigram_graph"
   ]
  },
  {
   "cell_type": "code",
   "execution_count": 396,
   "metadata": {},
   "outputs": [
    {
     "data": {
      "image/png": "[encoded data removed]",
      "text/plain": [
       "Plot with title “”"
      ]
     },
     "metadata": {},
     "output_type": "display_data"
    }
   ],
   "source": [
    "# V(bigram_graph)$layer <- V(bigram_graph)$name\n",
    "\n",
    "bigram_graph <- set_vertex_attr(bigram_graph, \"layer\", value=as.integer(lapply(V(bigram_graph)$name, substring, 0, 1)))\n",
    "bigram_graph <- set_vertex_attr(bigram_graph, \"name\", value=as.integer(lapply(V(bigram_graph)$name, substring, 0, 1)))\n",
    "\n",
    "plot(bigram_graph, layout = layout.k_partite(bigram_graph))\n",
    "\n",
    "# layout.k_partite(bigram_graph)"
   ]
  },
  {
   "cell_type": "code",
   "execution_count": 273,
   "metadata": {},
   "outputs": [
    {
     "data": {
      "text/html": [
       "<ol class=list-inline>\n",
       "\t<li>1</li>\n",
       "\t<li>1</li>\n",
       "\t<li>1</li>\n",
       "\t<li>1</li>\n",
       "\t<li>1</li>\n",
       "\t<li>1</li>\n",
       "\t<li>1</li>\n",
       "\t<li>1</li>\n",
       "\t<li>1</li>\n",
       "\t<li>1</li>\n",
       "\t<li>2</li>\n",
       "\t<li>2</li>\n",
       "\t<li>2</li>\n",
       "\t<li>2</li>\n",
       "\t<li>2</li>\n",
       "\t<li>2</li>\n",
       "\t<li>2</li>\n",
       "\t<li>2</li>\n",
       "\t<li>2</li>\n",
       "\t<li>2</li>\n",
       "</ol>\n"
      ],
      "text/latex": [
       "\\begin{enumerate*}\n",
       "\\item 1\n",
       "\\item 1\n",
       "\\item 1\n",
       "\\item 1\n",
       "\\item 1\n",
       "\\item 1\n",
       "\\item 1\n",
       "\\item 1\n",
       "\\item 1\n",
       "\\item 1\n",
       "\\item 2\n",
       "\\item 2\n",
       "\\item 2\n",
       "\\item 2\n",
       "\\item 2\n",
       "\\item 2\n",
       "\\item 2\n",
       "\\item 2\n",
       "\\item 2\n",
       "\\item 2\n",
       "\\end{enumerate*}\n"
      ],
      "text/markdown": [
       "1. 1\n",
       "2. 1\n",
       "3. 1\n",
       "4. 1\n",
       "5. 1\n",
       "6. 1\n",
       "7. 1\n",
       "8. 1\n",
       "9. 1\n",
       "10. 1\n",
       "11. 2\n",
       "12. 2\n",
       "13. 2\n",
       "14. 2\n",
       "15. 2\n",
       "16. 2\n",
       "17. 2\n",
       "18. 2\n",
       "19. 2\n",
       "20. 2\n",
       "\n",
       "\n"
      ],
      "text/plain": [
       " [1] 1 1 1 1 1 1 1 1 1 1 2 2 2 2 2 2 2 2 2 2"
      ]
     },
     "metadata": {},
     "output_type": "display_data"
    }
   ],
   "source": [
    "unlist(V(bigram_graph)$layer)"
   ]
  },
  {
   "cell_type": "code",
   "execution_count": 274,
   "metadata": {},
   "outputs": [
    {
     "data": {
      "text/html": [
       "<table>\n",
       "<caption>A matrix: 20 × 2 of type dbl[,2]</caption>\n",
       "<tbody>\n",
       "\t<tr><td>1</td><td>10</td></tr>\n",
       "\t<tr><td>1</td><td> 9</td></tr>\n",
       "\t<tr><td>1</td><td> 8</td></tr>\n",
       "\t<tr><td>1</td><td> 7</td></tr>\n",
       "\t<tr><td>1</td><td> 6</td></tr>\n",
       "\t<tr><td>1</td><td> 5</td></tr>\n",
       "\t<tr><td>1</td><td> 4</td></tr>\n",
       "\t<tr><td>1</td><td> 3</td></tr>\n",
       "\t<tr><td>1</td><td> 2</td></tr>\n",
       "\t<tr><td>1</td><td> 1</td></tr>\n",
       "\t<tr><td>2</td><td>10</td></tr>\n",
       "\t<tr><td>2</td><td> 9</td></tr>\n",
       "\t<tr><td>2</td><td> 8</td></tr>\n",
       "\t<tr><td>2</td><td> 7</td></tr>\n",
       "\t<tr><td>2</td><td> 6</td></tr>\n",
       "\t<tr><td>2</td><td> 5</td></tr>\n",
       "\t<tr><td>2</td><td> 4</td></tr>\n",
       "\t<tr><td>2</td><td> 3</td></tr>\n",
       "\t<tr><td>2</td><td> 2</td></tr>\n",
       "\t<tr><td>2</td><td> 1</td></tr>\n",
       "</tbody>\n",
       "</table>\n"
      ],
      "text/latex": [
       "A matrix: 20 × 2 of type dbl{[},2{]}\n",
       "\\begin{tabular}{ll}\n",
       "\t 1 & 10\\\\\n",
       "\t 1 &  9\\\\\n",
       "\t 1 &  8\\\\\n",
       "\t 1 &  7\\\\\n",
       "\t 1 &  6\\\\\n",
       "\t 1 &  5\\\\\n",
       "\t 1 &  4\\\\\n",
       "\t 1 &  3\\\\\n",
       "\t 1 &  2\\\\\n",
       "\t 1 &  1\\\\\n",
       "\t 2 & 10\\\\\n",
       "\t 2 &  9\\\\\n",
       "\t 2 &  8\\\\\n",
       "\t 2 &  7\\\\\n",
       "\t 2 &  6\\\\\n",
       "\t 2 &  5\\\\\n",
       "\t 2 &  4\\\\\n",
       "\t 2 &  3\\\\\n",
       "\t 2 &  2\\\\\n",
       "\t 2 &  1\\\\\n",
       "\\end{tabular}\n"
      ],
      "text/markdown": [
       "\n",
       "A matrix: 20 × 2 of type dbl[,2]\n",
       "\n",
       "| 1 | 10 |\n",
       "| 1 |  9 |\n",
       "| 1 |  8 |\n",
       "| 1 |  7 |\n",
       "| 1 |  6 |\n",
       "| 1 |  5 |\n",
       "| 1 |  4 |\n",
       "| 1 |  3 |\n",
       "| 1 |  2 |\n",
       "| 1 |  1 |\n",
       "| 2 | 10 |\n",
       "| 2 |  9 |\n",
       "| 2 |  8 |\n",
       "| 2 |  7 |\n",
       "| 2 |  6 |\n",
       "| 2 |  5 |\n",
       "| 2 |  4 |\n",
       "| 2 |  3 |\n",
       "| 2 |  2 |\n",
       "| 2 |  1 |\n",
       "\n"
      ],
      "text/plain": [
       "      [,1] [,2]\n",
       " [1,] 1    10  \n",
       " [2,] 1     9  \n",
       " [3,] 1     8  \n",
       " [4,] 1     7  \n",
       " [5,] 1     6  \n",
       " [6,] 1     5  \n",
       " [7,] 1     4  \n",
       " [8,] 1     3  \n",
       " [9,] 1     2  \n",
       "[10,] 1     1  \n",
       "[11,] 2    10  \n",
       "[12,] 2     9  \n",
       "[13,] 2     8  \n",
       "[14,] 2     7  \n",
       "[15,] 2     6  \n",
       "[16,] 2     5  \n",
       "[17,] 2     4  \n",
       "[18,] 2     3  \n",
       "[19,] 2     2  \n",
       "[20,] 2     1  "
      ]
     },
     "metadata": {},
     "output_type": "display_data"
    }
   ],
   "source": [
    "l <- layout.sugiyama(bigram_graph)$layout[,2:1]\n",
    "l[,1] <- unlist(V(bigram_graph)$layer)\n",
    "l[,2] <- - l[,2] + 1 + max(l[,2])\n",
    "l"
   ]
  },
  {
   "cell_type": "code",
   "execution_count": 288,
   "metadata": {},
   "outputs": [
    {
     "data": {
      "text/html": [
       "<table>\n",
       "<caption>A tibble: 6 × 5</caption>\n",
       "<thead>\n",
       "\t<tr><th scope=col>word1</th><th scope=col>word2</th><th scope=col>n</th><th scope=col>word1Vertex</th><th scope=col>word2Labelled</th></tr>\n",
       "\t<tr><th scope=col>&lt;chr&gt;</th><th scope=col>&lt;chr&gt;</th><th scope=col>&lt;int&gt;</th><th scope=col>&lt;chr&gt;</th><th scope=col>&lt;chr&gt;</th></tr>\n",
       "</thead>\n",
       "<tbody>\n",
       "\t<tr><td>happy </td><td>birthday</td><td>34</td><td>1:happy </td><td>2:birthday</td></tr>\n",
       "\t<tr><td>beep  </td><td>beep    </td><td>21</td><td>1:beep  </td><td>2:beep    </td></tr>\n",
       "\t<tr><td>social</td><td>media   </td><td>17</td><td>1:social</td><td>2:media   </td></tr>\n",
       "\t<tr><td>3     </td><td>3       </td><td>16</td><td>1:3     </td><td>2:3       </td></tr>\n",
       "\t<tr><td>san   </td><td>diego   </td><td>14</td><td>1:san   </td><td>2:diego   </td></tr>\n",
       "\t<tr><td>hell  </td><td>yeah    </td><td>13</td><td>1:hell  </td><td>2:yeah    </td></tr>\n",
       "</tbody>\n",
       "</table>\n"
      ],
      "text/latex": [
       "A tibble: 6 × 5\n",
       "\\begin{tabular}{r|lllll}\n",
       " word1 & word2 & n & word1Vertex & word2Labelled\\\\\n",
       " <chr> & <chr> & <int> & <chr> & <chr>\\\\\n",
       "\\hline\n",
       "\t happy  & birthday & 34 & 1:happy  & 2:birthday\\\\\n",
       "\t beep   & beep     & 21 & 1:beep   & 2:beep    \\\\\n",
       "\t social & media    & 17 & 1:social & 2:media   \\\\\n",
       "\t 3      & 3        & 16 & 1:3      & 2:3       \\\\\n",
       "\t san    & diego    & 14 & 1:san    & 2:diego   \\\\\n",
       "\t hell   & yeah     & 13 & 1:hell   & 2:yeah    \\\\\n",
       "\\end{tabular}\n"
      ],
      "text/markdown": [
       "\n",
       "A tibble: 6 × 5\n",
       "\n",
       "| word1 &lt;chr&gt; | word2 &lt;chr&gt; | n &lt;int&gt; | word1Vertex &lt;chr&gt; | word2Labelled &lt;chr&gt; |\n",
       "|---|---|---|---|---|\n",
       "| happy  | birthday | 34 | 1:happy  | 2:birthday |\n",
       "| beep   | beep     | 21 | 1:beep   | 2:beep     |\n",
       "| social | media    | 17 | 1:social | 2:media    |\n",
       "| 3      | 3        | 16 | 1:3      | 2:3        |\n",
       "| san    | diego    | 14 | 1:san    | 2:diego    |\n",
       "| hell   | yeah     | 13 | 1:hell   | 2:yeah     |\n",
       "\n"
      ],
      "text/plain": [
       "  word1  word2    n  word1Vertex word2Labelled\n",
       "1 happy  birthday 34 1:happy     2:birthday   \n",
       "2 beep   beep     21 1:beep      2:beep       \n",
       "3 social media    17 1:social    2:media      \n",
       "4 3      3        16 1:3         2:3          \n",
       "5 san    diego    14 1:san       2:diego      \n",
       "6 hell   yeah     13 1:hell      2:yeah       "
      ]
     },
     "metadata": {},
     "output_type": "display_data"
    }
   ],
   "source": [
    "labelled_bigrams <- bigram_counts %>%\n",
    "    mutate(\n",
    "        word1Vertex = paste0(\"1:\",word1),\n",
    "        word2Labelled = paste0(\"2:\",word2),\n",
    "        n = n\n",
    "    )\n",
    "\n",
    "head(labelled_bigrams)"
   ]
  },
  {
   "cell_type": "code",
   "execution_count": 292,
   "metadata": {},
   "outputs": [
    {
     "data": {
      "text/html": [
       "<table>\n",
       "<caption>A tibble: 6 × 3</caption>\n",
       "<thead>\n",
       "\t<tr><th scope=col>word1</th><th scope=col>word2</th><th scope=col>n</th></tr>\n",
       "\t<tr><th scope=col>&lt;chr&gt;</th><th scope=col>&lt;chr&gt;</th><th scope=col>&lt;int&gt;</th></tr>\n",
       "</thead>\n",
       "<tbody>\n",
       "\t<tr><td>happy </td><td>birthday</td><td>34</td></tr>\n",
       "\t<tr><td>beep  </td><td>beep    </td><td>21</td></tr>\n",
       "\t<tr><td>social</td><td>media   </td><td>17</td></tr>\n",
       "\t<tr><td>3     </td><td>3       </td><td>16</td></tr>\n",
       "\t<tr><td>san   </td><td>diego   </td><td>14</td></tr>\n",
       "\t<tr><td>hell  </td><td>yeah    </td><td>13</td></tr>\n",
       "</tbody>\n",
       "</table>\n"
      ],
      "text/latex": [
       "A tibble: 6 × 3\n",
       "\\begin{tabular}{r|lll}\n",
       " word1 & word2 & n\\\\\n",
       " <chr> & <chr> & <int>\\\\\n",
       "\\hline\n",
       "\t happy  & birthday & 34\\\\\n",
       "\t beep   & beep     & 21\\\\\n",
       "\t social & media    & 17\\\\\n",
       "\t 3      & 3        & 16\\\\\n",
       "\t san    & diego    & 14\\\\\n",
       "\t hell   & yeah     & 13\\\\\n",
       "\\end{tabular}\n"
      ],
      "text/markdown": [
       "\n",
       "A tibble: 6 × 3\n",
       "\n",
       "| word1 &lt;chr&gt; | word2 &lt;chr&gt; | n &lt;int&gt; |\n",
       "|---|---|---|\n",
       "| happy  | birthday | 34 |\n",
       "| beep   | beep     | 21 |\n",
       "| social | media    | 17 |\n",
       "| 3      | 3        | 16 |\n",
       "| san    | diego    | 14 |\n",
       "| hell   | yeah     | 13 |\n",
       "\n"
      ],
      "text/plain": [
       "  word1  word2    n \n",
       "1 happy  birthday 34\n",
       "2 beep   beep     21\n",
       "3 social media    17\n",
       "4 3      3        16\n",
       "5 san    diego    14\n",
       "6 hell   yeah     13"
      ]
     },
     "metadata": {},
     "output_type": "display_data"
    }
   ],
   "source": [
    "head(bigram_counts)"
   ]
  },
  {
   "cell_type": "code",
   "execution_count": 335,
   "metadata": {},
   "outputs": [
    {
     "data": {
      "text/html": [
       "<table>\n",
       "<caption>A tibble: 6 × 5</caption>\n",
       "<thead>\n",
       "\t<tr><th scope=col>word1</th><th scope=col>word2</th><th scope=col>n</th><th scope=col>word1Vertex</th><th scope=col>word2Vertex</th></tr>\n",
       "\t<tr><th scope=col>&lt;chr&gt;</th><th scope=col>&lt;chr&gt;</th><th scope=col>&lt;int&gt;</th><th scope=col>&lt;int&gt;</th><th scope=col>&lt;int&gt;</th></tr>\n",
       "</thead>\n",
       "<tbody>\n",
       "\t<tr><td>happy </td><td>birthday</td><td>34</td><td>1</td><td>17780</td></tr>\n",
       "\t<tr><td>beep  </td><td>beep    </td><td>21</td><td>2</td><td>17781</td></tr>\n",
       "\t<tr><td>social</td><td>media   </td><td>17</td><td>3</td><td>17782</td></tr>\n",
       "\t<tr><td>3     </td><td>3       </td><td>16</td><td>4</td><td>17783</td></tr>\n",
       "\t<tr><td>san   </td><td>diego   </td><td>14</td><td>5</td><td>17784</td></tr>\n",
       "\t<tr><td>hell  </td><td>yeah    </td><td>13</td><td>6</td><td>17785</td></tr>\n",
       "</tbody>\n",
       "</table>\n"
      ],
      "text/latex": [
       "A tibble: 6 × 5\n",
       "\\begin{tabular}{r|lllll}\n",
       " word1 & word2 & n & word1Vertex & word2Vertex\\\\\n",
       " <chr> & <chr> & <int> & <int> & <int>\\\\\n",
       "\\hline\n",
       "\t happy  & birthday & 34 & 1 & 17780\\\\\n",
       "\t beep   & beep     & 21 & 2 & 17781\\\\\n",
       "\t social & media    & 17 & 3 & 17782\\\\\n",
       "\t 3      & 3        & 16 & 4 & 17783\\\\\n",
       "\t san    & diego    & 14 & 5 & 17784\\\\\n",
       "\t hell   & yeah     & 13 & 6 & 17785\\\\\n",
       "\\end{tabular}\n"
      ],
      "text/markdown": [
       "\n",
       "A tibble: 6 × 5\n",
       "\n",
       "| word1 &lt;chr&gt; | word2 &lt;chr&gt; | n &lt;int&gt; | word1Vertex &lt;int&gt; | word2Vertex &lt;int&gt; |\n",
       "|---|---|---|---|---|\n",
       "| happy  | birthday | 34 | 1 | 17780 |\n",
       "| beep   | beep     | 21 | 2 | 17781 |\n",
       "| social | media    | 17 | 3 | 17782 |\n",
       "| 3      | 3        | 16 | 4 | 17783 |\n",
       "| san    | diego    | 14 | 5 | 17784 |\n",
       "| hell   | yeah     | 13 | 6 | 17785 |\n",
       "\n"
      ],
      "text/plain": [
       "  word1  word2    n  word1Vertex word2Vertex\n",
       "1 happy  birthday 34 1           17780      \n",
       "2 beep   beep     21 2           17781      \n",
       "3 social media    17 3           17782      \n",
       "4 3      3        16 4           17783      \n",
       "5 san    diego    14 5           17784      \n",
       "6 hell   yeah     13 6           17785      "
      ]
     },
     "metadata": {},
     "output_type": "display_data"
    }
   ],
   "source": [
    "numNGrams <- nrow(bigram_counts)\n",
    "bigram_counts$word1Vertex <- 1:numNGrams\n",
    "bigram_counts$word2Vertex <- 1:numNGrams + nrow(bigram_counts)\n",
    "head(bigram_counts)"
   ]
  },
  {
   "cell_type": "code",
   "execution_count": 299,
   "metadata": {},
   "outputs": [
    {
     "data": {
      "text/html": [
       "<table>\n",
       "<caption>A tibble: 6 × 5</caption>\n",
       "<thead>\n",
       "\t<tr><th scope=col>word1</th><th scope=col>word2</th><th scope=col>n</th><th scope=col>word1Vertex</th><th scope=col>word2Vertex</th></tr>\n",
       "\t<tr><th scope=col>&lt;chr&gt;</th><th scope=col>&lt;chr&gt;</th><th scope=col>&lt;int&gt;</th><th scope=col>&lt;int&gt;</th><th scope=col>&lt;int&gt;</th></tr>\n",
       "</thead>\n",
       "<tbody>\n",
       "\t<tr><td>zoom   </td><td>lens    </td><td>1</td><td>17774</td><td>35553</td></tr>\n",
       "\t<tr><td>zou    </td><td>bisou   </td><td>1</td><td>17775</td><td>35554</td></tr>\n",
       "\t<tr><td>zucotti</td><td>park    </td><td>1</td><td>17776</td><td>35555</td></tr>\n",
       "\t<tr><td>zumba  </td><td>mode    </td><td>1</td><td>17777</td><td>35556</td></tr>\n",
       "\t<tr><td>zune   </td><td>rhapsody</td><td>1</td><td>17778</td><td>35557</td></tr>\n",
       "\t<tr><td>zz     </td><td>dp's    </td><td>1</td><td>17779</td><td>35558</td></tr>\n",
       "</tbody>\n",
       "</table>\n"
      ],
      "text/latex": [
       "A tibble: 6 × 5\n",
       "\\begin{tabular}{r|lllll}\n",
       " word1 & word2 & n & word1Vertex & word2Vertex\\\\\n",
       " <chr> & <chr> & <int> & <int> & <int>\\\\\n",
       "\\hline\n",
       "\t zoom    & lens     & 1 & 17774 & 35553\\\\\n",
       "\t zou     & bisou    & 1 & 17775 & 35554\\\\\n",
       "\t zucotti & park     & 1 & 17776 & 35555\\\\\n",
       "\t zumba   & mode     & 1 & 17777 & 35556\\\\\n",
       "\t zune    & rhapsody & 1 & 17778 & 35557\\\\\n",
       "\t zz      & dp's     & 1 & 17779 & 35558\\\\\n",
       "\\end{tabular}\n"
      ],
      "text/markdown": [
       "\n",
       "A tibble: 6 × 5\n",
       "\n",
       "| word1 &lt;chr&gt; | word2 &lt;chr&gt; | n &lt;int&gt; | word1Vertex &lt;int&gt; | word2Vertex &lt;int&gt; |\n",
       "|---|---|---|---|---|\n",
       "| zoom    | lens     | 1 | 17774 | 35553 |\n",
       "| zou     | bisou    | 1 | 17775 | 35554 |\n",
       "| zucotti | park     | 1 | 17776 | 35555 |\n",
       "| zumba   | mode     | 1 | 17777 | 35556 |\n",
       "| zune    | rhapsody | 1 | 17778 | 35557 |\n",
       "| zz      | dp's     | 1 | 17779 | 35558 |\n",
       "\n"
      ],
      "text/plain": [
       "  word1   word2    n word1Vertex word2Vertex\n",
       "1 zoom    lens     1 17774       35553      \n",
       "2 zou     bisou    1 17775       35554      \n",
       "3 zucotti park     1 17776       35555      \n",
       "4 zumba   mode     1 17777       35556      \n",
       "5 zune    rhapsody 1 17778       35557      \n",
       "6 zz      dp's     1 17779       35558      "
      ]
     },
     "metadata": {},
     "output_type": "display_data"
    }
   ],
   "source": [
    "tail(bigram_counts)"
   ]
  },
  {
   "cell_type": "code",
   "execution_count": 328,
   "metadata": {},
   "outputs": [
    {
     "data": {
      "text/plain": [
       "IGRAPH 27cd617 DN-- 64 32 -- \n",
       "+ attr: name (v/c)\n",
       "+ edges from 27cd617 (vertex names):\n",
       " [1] 1 ->17780 2 ->17781 3 ->17782 4 ->17783 5 ->17784 6 ->17785 7 ->17786\n",
       " [8] 8 ->17787 9 ->17788 10->17789 11->17790 12->17791 13->17792 14->17793\n",
       "[15] 15->17794 16->17795 17->17796 18->17797 19->17798 20->17799 21->17800\n",
       "[22] 22->17801 23->17802 24->17803 25->17804 26->17805 27->17806 28->17807\n",
       "[29] 29->17808 30->17809 31->17810 32->17811"
      ]
     },
     "metadata": {},
     "output_type": "display_data"
    }
   ],
   "source": [
    "bigram_graph <- bigram_counts %>%\n",
    "  filter(n > 5) %>%\n",
    "  select(word1Vertex, word2Vertex) %>%\n",
    "  graph_from_data_frame()\n",
    "\n",
    "bigram_graph"
   ]
  },
  {
   "cell_type": "code",
   "execution_count": 347,
   "metadata": {},
   "outputs": [
    {
     "data": {
      "text/plain": [
       "IGRAPH ea3ea09 DN-- 64 32 -- \n",
       "+ attr: name (v/c)\n",
       "+ edges from ea3ea09 (vertex names):\n",
       " [1] 1 ->17780 2 ->17781 3 ->17782 4 ->17783 5 ->17784 6 ->17785 7 ->17786\n",
       " [8] 8 ->17787 9 ->17788 10->17789 11->17790 12->17791 13->17792 14->17793\n",
       "[15] 15->17794 16->17795 17->17796 18->17797 19->17798 20->17799 21->17800\n",
       "[22] 22->17801 23->17802 24->17803 25->17804 26->17805 27->17806 28->17807\n",
       "[29] 29->17808 30->17809 31->17810 32->17811"
      ]
     },
     "metadata": {},
     "output_type": "display_data"
    }
   ],
   "source": [
    "bigram_graph <- bigram_counts %>%\n",
    "  filter(n > 5) %>%\n",
    "  select(word1Vertex, word2Vertex) %>%\n",
    "  graph_from_data_frame()\n",
    "\n",
    "\n",
    "# vertex to name\n",
    "vertexNames <- bind_rows(\n",
    "    select(bigram_counts, name=word1, vertex=word1Vertex),\n",
    "    select(bigram_counts, name=word2, vertex=word2Vertex)\n",
    ")\n",
    "\n",
    "vertexToName <- function(v) {\n",
    "    filter(vertexNames, vertex == v)$name\n",
    "}\n",
    "\n",
    "vertexToLayer <- function(v) {\n",
    "    floor(v/numNGrams)\n",
    "}\n",
    "\n",
    "# bigram_graph <- set_vertex_attr(bigram_graph, \"layer\", value=sapply(as.numeric(V(bigram_graph)$name), vertexToLayer))\n",
    "# bigram_graph <- set_vertex_attr(bigram_graph, \"name\", value=sapply(V(bigram_graph)$name, vertexToName))\n",
    "\n",
    "bigram_graph"
   ]
  },
  {
   "cell_type": "code",
   "execution_count": 346,
   "metadata": {},
   "outputs": [
    {
     "data": {
      "image/png": "[encoded data removed]",
      "text/plain": [
       "Plot with title “”"
      ]
     },
     "metadata": {},
     "output_type": "display_data"
    }
   ],
   "source": [
    "\n",
    "plot(bigram_graph, layout = layout.k_partite(bigram_graph))"
   ]
  },
  {
   "cell_type": "code",
   "execution_count": 348,
   "metadata": {},
   "outputs": [],
   "source": [
    "bigram_counts$word1Vertex <- 1:numNGrams\n",
    "bigram_counts$word2Vertex <- 1:numNGrams + nrow(bigram_counts)\n",
    "\n"
   ]
  },
  {
   "cell_type": "code",
   "execution_count": 362,
   "metadata": {},
   "outputs": [
    {
     "data": {
      "text/html": [
       "8020"
      ],
      "text/latex": [
       "8020"
      ],
      "text/markdown": [
       "8020"
      ],
      "text/plain": [
       "[1] 8020"
      ]
     },
     "metadata": {},
     "output_type": "display_data"
    },
    {
     "data": {
      "text/html": [
       "8125"
      ],
      "text/latex": [
       "8125"
      ],
      "text/markdown": [
       "8125"
      ],
      "text/plain": [
       "[1] 8125"
      ]
     },
     "metadata": {},
     "output_type": "display_data"
    }
   ],
   "source": [
    "length(unique(bigram_counts$word1))\n",
    "length(unique(bigram_counts$word2))"
   ]
  },
  {
   "cell_type": "code",
   "execution_count": 385,
   "metadata": {},
   "outputs": [
    {
     "data": {
      "text/html": [
       "11115"
      ],
      "text/latex": [
       "11115"
      ],
      "text/markdown": [
       "11115"
      ],
      "text/plain": [
       "[1] 11115"
      ]
     },
     "metadata": {},
     "output_type": "display_data"
    }
   ],
   "source": [
    "uniqueWords <- unique(c(bigram_counts$word1, bigram_counts$word2))\n",
    "length(uniqueWords)"
   ]
  },
  {
   "cell_type": "code",
   "execution_count": 386,
   "metadata": {},
   "outputs": [],
   "source": [
    "wordIndices = 1:length(uniqueWords)"
   ]
  },
  {
   "cell_type": "code",
   "execution_count": 428,
   "metadata": {},
   "outputs": [
    {
     "data": {
      "text/html": [
       "<table>\n",
       "<caption>A tibble: 11 × 1</caption>\n",
       "<thead>\n",
       "\t<tr><th scope=col>word</th></tr>\n",
       "\t<tr><th scope=col>&lt;chr&gt;</th></tr>\n",
       "</thead>\n",
       "<tbody>\n",
       "\t<tr><td>awh     </td></tr>\n",
       "\t<tr><td>awhile  </td></tr>\n",
       "\t<tr><td>awks    </td></tr>\n",
       "\t<tr><td>awkward </td></tr>\n",
       "\t<tr><td>awp2012 </td></tr>\n",
       "\t<tr><td>awresome</td></tr>\n",
       "\t<tr><td>aws     </td></tr>\n",
       "\t<tr><td>aww     </td></tr>\n",
       "\t<tr><td>awww    </td></tr>\n",
       "\t<tr><td>awwws   </td></tr>\n",
       "\t<tr><td>ax      </td></tr>\n",
       "</tbody>\n",
       "</table>\n"
      ],
      "text/latex": [
       "A tibble: 11 × 1\n",
       "\\begin{tabular}{r|l}\n",
       " word\\\\\n",
       " <chr>\\\\\n",
       "\\hline\n",
       "\t awh     \\\\\n",
       "\t awhile  \\\\\n",
       "\t awks    \\\\\n",
       "\t awkward \\\\\n",
       "\t awp2012 \\\\\n",
       "\t awresome\\\\\n",
       "\t aws     \\\\\n",
       "\t aww     \\\\\n",
       "\t awww    \\\\\n",
       "\t awwws   \\\\\n",
       "\t ax      \\\\\n",
       "\\end{tabular}\n"
      ],
      "text/markdown": [
       "\n",
       "A tibble: 11 × 1\n",
       "\n",
       "| word &lt;chr&gt; |\n",
       "|---|\n",
       "| awh      |\n",
       "| awhile   |\n",
       "| awks     |\n",
       "| awkward  |\n",
       "| awp2012  |\n",
       "| awresome |\n",
       "| aws      |\n",
       "| aww      |\n",
       "| awww     |\n",
       "| awwws    |\n",
       "| ax       |\n",
       "\n"
      ],
      "text/plain": [
       "   word    \n",
       "1  awh     \n",
       "2  awhile  \n",
       "3  awks    \n",
       "4  awkward \n",
       "5  awp2012 \n",
       "6  awresome\n",
       "7  aws     \n",
       "8  aww     \n",
       "9  awww    \n",
       "10 awwws   \n",
       "11 ax      "
      ]
     },
     "metadata": {},
     "output_type": "display_data"
    },
    {
     "data": {
      "text/html": [
       "11115"
      ],
      "text/latex": [
       "11115"
      ],
      "text/markdown": [
       "11115"
      ],
      "text/plain": [
       "[1] 11115"
      ]
     },
     "metadata": {},
     "output_type": "display_data"
    }
   ],
   "source": [
    "wordCols = c('word1', 'word2')\n",
    "uniqueWords <- bigram_counts %>%\n",
    "    select(wordCols) %>%\n",
    "    gather(,word) %>%\n",
    "    select(word) %>%\n",
    "    distinct() %>%\n",
    "    arrange(word)\n",
    "\n",
    "uniqueWords[1000:1010,]\n",
    "\n",
    "nWords <- nrow(uniqueWords)\n",
    "nWords"
   ]
  },
  {
   "cell_type": "code",
   "execution_count": 446,
   "metadata": {},
   "outputs": [
    {
     "data": {
      "text/html": [
       "3314"
      ],
      "text/latex": [
       "3314"
      ],
      "text/markdown": [
       "3314"
      ],
      "text/plain": [
       "[1] 3314"
      ]
     },
     "metadata": {},
     "output_type": "display_data"
    }
   ],
   "source": [
    "#for bipartite graph of bigrams, assign vertices for all words, then \n",
    "#use the ngrams to create edges\n",
    "\n",
    "word2vertex <- function(word, layer){\n",
    "    nWords <- nrow(uniqueWords)\n",
    "    index <- which(uniqueWords$word == word)\n",
    "    vertex <- index + nWords*layer\n",
    "    vertex\n",
    "}\n",
    "\n",
    "nLayers <- 2\n",
    "\n",
    "layer <- 0\n",
    "\n",
    "word2"
   ]
  }
 ],
 "metadata": {
  "kernelspec": {
   "display_name": "R",
   "language": "R",
   "name": "ir"
  },
  "language_info": {
   "codemirror_mode": "r",
   "file_extension": ".r",
   "mimetype": "text/x-r-source",
   "name": "R",
   "pygments_lexer": "r",
   "version": "3.4.3"
  }
 },
 "nbformat": 4,
 "nbformat_minor": 2
}
