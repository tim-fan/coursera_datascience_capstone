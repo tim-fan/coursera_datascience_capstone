{
 "cells": [
  {
   "cell_type": "markdown",
   "metadata": {},
   "source": [
    "Does the link lead to an HTML page describing the exploratory analysis of the training data set?\n",
    "\n",
    "Has the data scientist done basic summaries of the three files? Word counts, line counts and basic data tables?\n",
    "\n",
    "Has the data scientist made basic plots, such as histograms to illustrate features of the data?\n",
    "\n",
    "Was the report written in a brief, concise style, in a way that a non-data scientist manager could appreciate?"
   ]
  },
  {
   "cell_type": "code",
   "execution_count": 1,
   "metadata": {},
   "outputs": [
    {
     "name": "stderr",
     "output_type": "stream",
     "text": [
      "\n",
      "Attaching package: ‘dplyr’\n",
      "\n",
      "The following objects are masked from ‘package:stats’:\n",
      "\n",
      "    filter, lag\n",
      "\n",
      "The following objects are masked from ‘package:base’:\n",
      "\n",
      "    intersect, setdiff, setequal, union\n",
      "\n"
     ]
    }
   ],
   "source": [
    "library(tidytext)\n",
    "library(dplyr)\n",
    "library(ggplot2)"
   ]
  },
  {
   "cell_type": "code",
   "execution_count": 2,
   "metadata": {},
   "outputs": [],
   "source": [
    "#basic summaries of the three files? Word counts, line counts and basic data tables?\n",
    "\n",
    "loadFile <- function(filepath) {\n",
    "    con = file(filepath, \"r\")\n",
    "    lines <- readLines(con)\n",
    "    close(con)\n",
    "    \n",
    "    lines\n",
    "}"
   ]
  },
  {
   "cell_type": "code",
   "execution_count": 23,
   "metadata": {},
   "outputs": [],
   "source": [
    "summarise <- function(filepath){\n",
    "    lines <- loadFile(filepath)\n",
    "    linesDf <- tibble(line = 1:length(lines), text = lines)\n",
    "    wordsDf <- linesDf %>%\n",
    "      unnest_tokens(word, text)\n",
    "    \n",
    "    wordCounts <- wordsDf %>%\n",
    "      anti_join(stop_words) %>%\n",
    "      count(word, sort = TRUE)\n",
    "    \n",
    "    results <- list(\n",
    "        lines = linesDf,\n",
    "        nLines = nrow(linesDf),\n",
    "        words = wordsDf,\n",
    "        nWords = nrow(wordsDf),\n",
    "        wordCounts = wordCounts,\n",
    "        mostCommonWords = head(wordCounts, n=20)\n",
    "    )\n",
    "    results\n",
    "}"
   ]
  },
  {
   "cell_type": "code",
   "execution_count": 24,
   "metadata": {},
   "outputs": [
    {
     "name": "stderr",
     "output_type": "stream",
     "text": [
      "Warning message in readLines(con):\n",
      "“line 167155 appears to contain an embedded nul”Warning message in readLines(con):\n",
      "“line 268547 appears to contain an embedded nul”Warning message in readLines(con):\n",
      "“line 1274086 appears to contain an embedded nul”Warning message in readLines(con):\n",
      "“line 1759032 appears to contain an embedded nul”Joining, by = \"word\"\n",
      "Joining, by = \"word\"\n",
      "Joining, by = \"word\"\n"
     ]
    }
   ],
   "source": [
    "tweets <- summarise('../data/final/en_US/en_US.twitter.txt')\n",
    "news <- summarise('../data/final/en_US/en_US.news.txt')\n",
    "blogs <- summarise('../data/final/en_US/en_US.blogs.txt')"
   ]
  },
  {
   "cell_type": "code",
   "execution_count": 32,
   "metadata": {},
   "outputs": [
    {
     "data": {
      "text/html": [
       "<table>\n",
       "<thead><tr><th scope=col>dataset</th><th scope=col>lineCount</th><th scope=col>wordCount</th><th scope=col>mostCommonWord</th></tr></thead>\n",
       "<tbody>\n",
       "\t<tr><td>tweets  </td><td>2360148 </td><td>30093369</td><td>love    </td></tr>\n",
       "\t<tr><td>blogs   </td><td> 899288 </td><td>37546246</td><td>time    </td></tr>\n",
       "\t<tr><td>news    </td><td>1010242 </td><td>34762395</td><td>time    </td></tr>\n",
       "</tbody>\n",
       "</table>\n"
      ],
      "text/latex": [
       "\\begin{tabular}{r|llll}\n",
       " dataset & lineCount & wordCount & mostCommonWord\\\\\n",
       "\\hline\n",
       "\t tweets   & 2360148  & 30093369 & love    \\\\\n",
       "\t blogs    &  899288  & 37546246 & time    \\\\\n",
       "\t news     & 1010242  & 34762395 & time    \\\\\n",
       "\\end{tabular}\n"
      ],
      "text/markdown": [
       "\n",
       "| dataset | lineCount | wordCount | mostCommonWord |\n",
       "|---|---|---|---|\n",
       "| tweets   | 2360148  | 30093369 | love     |\n",
       "| blogs    |  899288  | 37546246 | time     |\n",
       "| news     | 1010242  | 34762395 | time     |\n",
       "\n"
      ],
      "text/plain": [
       "  dataset lineCount wordCount mostCommonWord\n",
       "1 tweets  2360148   30093369  love          \n",
       "2 blogs    899288   37546246  time          \n",
       "3 news    1010242   34762395  time          "
      ]
     },
     "metadata": {},
     "output_type": "display_data"
    }
   ],
   "source": [
    "tibble(\n",
    "    dataset = c('tweets','blogs', 'news'),\n",
    "    lineCount = c(tweets$nLines, blogs$nLines, news$nLines),\n",
    "    wordCount = c(tweets$nWords, blogs$nWords, news$nWords),\n",
    "    mostCommonWord = c(tweets$mostCommonWords$word[1], blogs$mostCommonWords$word[1], news$mostCommonWords$word[1]),\n",
    ")"
   ]
  },
  {
   "cell_type": "code",
   "execution_count": 28,
   "metadata": {},
   "outputs": [
    {
     "data": {
      "text/html": [
       "'love'"
      ],
      "text/latex": [
       "'love'"
      ],
      "text/markdown": [
       "'love'"
      ],
      "text/plain": [
       "[1] \"love\""
      ]
     },
     "metadata": {},
     "output_type": "display_data"
    }
   ],
   "source": [
    "tweets$mostCommonWords$word[1]"
   ]
  },
  {
   "cell_type": "code",
   "execution_count": 14,
   "metadata": {},
   "outputs": [
    {
     "data": {
      "text/html": [
       "<table>\n",
       "<thead><tr><th scope=col>word</th><th scope=col>n</th></tr></thead>\n",
       "<tbody>\n",
       "\t<tr><td>the    </td><td>1860156</td></tr>\n",
       "\t<tr><td>and    </td><td>1094401</td></tr>\n",
       "\t<tr><td>to     </td><td>1069440</td></tr>\n",
       "\t<tr><td>a      </td><td> 900362</td></tr>\n",
       "\t<tr><td>of     </td><td> 876799</td></tr>\n",
       "\t<tr><td>i      </td><td> 775032</td></tr>\n",
       "\t<tr><td>in     </td><td> 598532</td></tr>\n",
       "\t<tr><td>that   </td><td> 460782</td></tr>\n",
       "\t<tr><td>is     </td><td> 432712</td></tr>\n",
       "\t<tr><td>it     </td><td> 403902</td></tr>\n",
       "\t<tr><td>for    </td><td> 363838</td></tr>\n",
       "\t<tr><td>you    </td><td> 298702</td></tr>\n",
       "\t<tr><td>with   </td><td> 286733</td></tr>\n",
       "\t<tr><td>was    </td><td> 278347</td></tr>\n",
       "\t<tr><td>on     </td><td> 276511</td></tr>\n",
       "\t<tr><td>my     </td><td> 270855</td></tr>\n",
       "\t<tr><td>this   </td><td> 259008</td></tr>\n",
       "\t<tr><td>as     </td><td> 223949</td></tr>\n",
       "\t<tr><td>have   </td><td> 218930</td></tr>\n",
       "\t<tr><td>be     </td><td> 209061</td></tr>\n",
       "</tbody>\n",
       "</table>\n"
      ],
      "text/latex": [
       "\\begin{tabular}{r|ll}\n",
       " word & n\\\\\n",
       "\\hline\n",
       "\t the     & 1860156\\\\\n",
       "\t and     & 1094401\\\\\n",
       "\t to      & 1069440\\\\\n",
       "\t a       &  900362\\\\\n",
       "\t of      &  876799\\\\\n",
       "\t i       &  775032\\\\\n",
       "\t in      &  598532\\\\\n",
       "\t that    &  460782\\\\\n",
       "\t is      &  432712\\\\\n",
       "\t it      &  403902\\\\\n",
       "\t for     &  363838\\\\\n",
       "\t you     &  298702\\\\\n",
       "\t with    &  286733\\\\\n",
       "\t was     &  278347\\\\\n",
       "\t on      &  276511\\\\\n",
       "\t my      &  270855\\\\\n",
       "\t this    &  259008\\\\\n",
       "\t as      &  223949\\\\\n",
       "\t have    &  218930\\\\\n",
       "\t be      &  209061\\\\\n",
       "\\end{tabular}\n"
      ],
      "text/markdown": [
       "\n",
       "| word | n |\n",
       "|---|---|\n",
       "| the     | 1860156 |\n",
       "| and     | 1094401 |\n",
       "| to      | 1069440 |\n",
       "| a       |  900362 |\n",
       "| of      |  876799 |\n",
       "| i       |  775032 |\n",
       "| in      |  598532 |\n",
       "| that    |  460782 |\n",
       "| is      |  432712 |\n",
       "| it      |  403902 |\n",
       "| for     |  363838 |\n",
       "| you     |  298702 |\n",
       "| with    |  286733 |\n",
       "| was     |  278347 |\n",
       "| on      |  276511 |\n",
       "| my      |  270855 |\n",
       "| this    |  259008 |\n",
       "| as      |  223949 |\n",
       "| have    |  218930 |\n",
       "| be      |  209061 |\n",
       "\n"
      ],
      "text/plain": [
       "   word n      \n",
       "1  the  1860156\n",
       "2  and  1094401\n",
       "3  to   1069440\n",
       "4  a     900362\n",
       "5  of    876799\n",
       "6  i     775032\n",
       "7  in    598532\n",
       "8  that  460782\n",
       "9  is    432712\n",
       "10 it    403902\n",
       "11 for   363838\n",
       "12 you   298702\n",
       "13 with  286733\n",
       "14 was   278347\n",
       "15 on    276511\n",
       "16 my    270855\n",
       "17 this  259008\n",
       "18 as    223949\n",
       "19 have  218930\n",
       "20 be    209061"
      ]
     },
     "metadata": {},
     "output_type": "display_data"
    }
   ],
   "source": [
    "blogs$mostCommonWords"
   ]
  },
  {
   "cell_type": "code",
   "execution_count": 15,
   "metadata": {},
   "outputs": [
    {
     "data": {
      "text/html": [
       "<table>\n",
       "<thead><tr><th scope=col>word</th><th scope=col>n</th></tr></thead>\n",
       "<tbody>\n",
       "\t<tr><td>the    </td><td>1974366</td></tr>\n",
       "\t<tr><td>to     </td><td> 906145</td></tr>\n",
       "\t<tr><td>and    </td><td> 889511</td></tr>\n",
       "\t<tr><td>a      </td><td> 878035</td></tr>\n",
       "\t<tr><td>of     </td><td> 774502</td></tr>\n",
       "\t<tr><td>in     </td><td> 679065</td></tr>\n",
       "\t<tr><td>for    </td><td> 353901</td></tr>\n",
       "\t<tr><td>that   </td><td> 347079</td></tr>\n",
       "\t<tr><td>is     </td><td> 284240</td></tr>\n",
       "\t<tr><td>on     </td><td> 269881</td></tr>\n",
       "\t<tr><td>with   </td><td> 254813</td></tr>\n",
       "\t<tr><td>said   </td><td> 250418</td></tr>\n",
       "\t<tr><td>he     </td><td> 228996</td></tr>\n",
       "\t<tr><td>was    </td><td> 228970</td></tr>\n",
       "\t<tr><td>it     </td><td> 220092</td></tr>\n",
       "\t<tr><td>at     </td><td> 214177</td></tr>\n",
       "\t<tr><td>as     </td><td> 187560</td></tr>\n",
       "\t<tr><td>i      </td><td> 158856</td></tr>\n",
       "\t<tr><td>his    </td><td> 157671</td></tr>\n",
       "\t<tr><td>be     </td><td> 152860</td></tr>\n",
       "</tbody>\n",
       "</table>\n"
      ],
      "text/latex": [
       "\\begin{tabular}{r|ll}\n",
       " word & n\\\\\n",
       "\\hline\n",
       "\t the     & 1974366\\\\\n",
       "\t to      &  906145\\\\\n",
       "\t and     &  889511\\\\\n",
       "\t a       &  878035\\\\\n",
       "\t of      &  774502\\\\\n",
       "\t in      &  679065\\\\\n",
       "\t for     &  353901\\\\\n",
       "\t that    &  347079\\\\\n",
       "\t is      &  284240\\\\\n",
       "\t on      &  269881\\\\\n",
       "\t with    &  254813\\\\\n",
       "\t said    &  250418\\\\\n",
       "\t he      &  228996\\\\\n",
       "\t was     &  228970\\\\\n",
       "\t it      &  220092\\\\\n",
       "\t at      &  214177\\\\\n",
       "\t as      &  187560\\\\\n",
       "\t i       &  158856\\\\\n",
       "\t his     &  157671\\\\\n",
       "\t be      &  152860\\\\\n",
       "\\end{tabular}\n"
      ],
      "text/markdown": [
       "\n",
       "| word | n |\n",
       "|---|---|\n",
       "| the     | 1974366 |\n",
       "| to      |  906145 |\n",
       "| and     |  889511 |\n",
       "| a       |  878035 |\n",
       "| of      |  774502 |\n",
       "| in      |  679065 |\n",
       "| for     |  353901 |\n",
       "| that    |  347079 |\n",
       "| is      |  284240 |\n",
       "| on      |  269881 |\n",
       "| with    |  254813 |\n",
       "| said    |  250418 |\n",
       "| he      |  228996 |\n",
       "| was     |  228970 |\n",
       "| it      |  220092 |\n",
       "| at      |  214177 |\n",
       "| as      |  187560 |\n",
       "| i       |  158856 |\n",
       "| his     |  157671 |\n",
       "| be      |  152860 |\n",
       "\n"
      ],
      "text/plain": [
       "   word n      \n",
       "1  the  1974366\n",
       "2  to    906145\n",
       "3  and   889511\n",
       "4  a     878035\n",
       "5  of    774502\n",
       "6  in    679065\n",
       "7  for   353901\n",
       "8  that  347079\n",
       "9  is    284240\n",
       "10 on    269881\n",
       "11 with  254813\n",
       "12 said  250418\n",
       "13 he    228996\n",
       "14 was   228970\n",
       "15 it    220092\n",
       "16 at    214177\n",
       "17 as    187560\n",
       "18 i     158856\n",
       "19 his   157671\n",
       "20 be    152860"
      ]
     },
     "metadata": {},
     "output_type": "display_data"
    }
   ],
   "source": [
    "news$mostCommonWords"
   ]
  },
  {
   "cell_type": "code",
   "execution_count": 17,
   "metadata": {},
   "outputs": [],
   "source": [
    "plotCommonWords <- function(words) {\n",
    "    words %>%\n",
    "    anti_join(stop_words) %>%\n",
    "    count(word, sort = TRUE) %>%\n",
    "    head(n = 20) %>%\n",
    "    mutate(word = reorder(word, n)) %>%\n",
    "    ggplot(aes(word, n)) +\n",
    "    geom_col() +\n",
    "    xlab(NULL) +\n",
    "    coord_flip()    \n",
    "}"
   ]
  },
  {
   "cell_type": "code",
   "execution_count": 18,
   "metadata": {},
   "outputs": [
    {
     "name": "stderr",
     "output_type": "stream",
     "text": [
      "Joining, by = \"word\"\n"
     ]
    },
    {
     "data": {
      "image/png": "[encoded data removed]",
      "text/plain": [
       "plot without title"
      ]
     },
     "metadata": {},
     "output_type": "display_data"
    }
   ],
   "source": [
    "plotCommonWords(tweets$words)"
   ]
  },
  {
   "cell_type": "code",
   "execution_count": 19,
   "metadata": {},
   "outputs": [
    {
     "name": "stderr",
     "output_type": "stream",
     "text": [
      "Joining, by = \"word\"\n"
     ]
    },
    {
     "data": {
      "image/png": "[encoded data removed]",
      "text/plain": [
       "plot without title"
      ]
     },
     "metadata": {},
     "output_type": "display_data"
    }
   ],
   "source": [
    "plotCommonWords(blogs$words)"
   ]
  },
  {
   "cell_type": "code",
   "execution_count": 20,
   "metadata": {},
   "outputs": [
    {
     "name": "stderr",
     "output_type": "stream",
     "text": [
      "Joining, by = \"word\"\n"
     ]
    },
    {
     "data": {
      "image/png": "[encoded data removed]",
      "text/plain": [
       "plot without title"
      ]
     },
     "metadata": {},
     "output_type": "display_data"
    }
   ],
   "source": [
    "plotCommonWords(news$words)"
   ]
  },
  {
   "cell_type": "code",
   "execution_count": null,
   "metadata": {},
   "outputs": [],
   "source": []
  }
 ],
 "metadata": {
  "kernelspec": {
   "display_name": "R",
   "language": "R",
   "name": "ir"
  },
  "language_info": {
   "codemirror_mode": "r",
   "file_extension": ".r",
   "mimetype": "text/x-r-source",
   "name": "R",
   "pygments_lexer": "r",
   "version": "3.4.4"
  }
 },
 "nbformat": 4,
 "nbformat_minor": 2
}
