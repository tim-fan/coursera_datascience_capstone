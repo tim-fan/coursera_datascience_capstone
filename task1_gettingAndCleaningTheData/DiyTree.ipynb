{
 "cells": [
  {
   "cell_type": "code",
   "execution_count": 1,
   "metadata": {},
   "outputs": [],
   "source": [
    "#trial creating ngram tree\n"
   ]
  },
  {
   "cell_type": "code",
   "execution_count": 89,
   "metadata": {},
   "outputs": [
    {
     "name": "stderr",
     "output_type": "stream",
     "text": [
      "\n",
      "Attaching package: ‘stringr’\n",
      "\n",
      "The following object is masked _by_ ‘.GlobalEnv’:\n",
      "\n",
      "    words\n",
      "\n"
     ]
    }
   ],
   "source": [
    "library(dplyr)\n",
    "library(tidytext)\n",
    "library(data.tree)\n",
    "library(stringr)\n"
   ]
  },
  {
   "cell_type": "code",
   "execution_count": 3,
   "metadata": {},
   "outputs": [],
   "source": [
    "enUsTwitter10kSubset <- readRDS(file='../data/subsets/enUsTwitter10kSubset.rds')"
   ]
  },
  {
   "cell_type": "code",
   "execution_count": 4,
   "metadata": {},
   "outputs": [
    {
     "data": {
      "text/html": [
       "<ol>\n",
       "\t<li>'These late night walks are still religion to me. Thank goodness for these.'</li>\n",
       "\t<li>'Enter to win an Orioles vintage cap by email or tweet the answer to: Which 2 O\\'s pitchers hold the record for the most opening day starts?'</li>\n",
       "\t<li>'A Monthly payment plan is now available for those wishing to enroll in Hawaii\\'s #1 RE Investor training program - the Millionaire Mentor...'</li>\n",
       "\t<li>'Game time!'</li>\n",
       "\t<li>'I feared that this was bound to happen Sugarland almost died 2 who should they sue The State of Indiana? whynot'</li>\n",
       "\t<li>'ADDY Awards tonight...plus giving scholarships to 5 deserving students...and something from our young advertising professionals'</li>\n",
       "</ol>\n"
      ],
      "text/latex": [
       "\\begin{enumerate}\n",
       "\\item 'These late night walks are still religion to me. Thank goodness for these.'\n",
       "\\item 'Enter to win an Orioles vintage cap by email or tweet the answer to: Which 2 O\\textbackslash{}'s pitchers hold the record for the most opening day starts?'\n",
       "\\item 'A Monthly payment plan is now available for those wishing to enroll in Hawaii\\textbackslash{}'s \\#1 RE Investor training program - the Millionaire Mentor...'\n",
       "\\item 'Game time!'\n",
       "\\item 'I feared that this was bound to happen Sugarland almost died 2 who should they sue The State of Indiana? whynot'\n",
       "\\item 'ADDY Awards tonight...plus giving scholarships to 5 deserving students...and something from our young advertising professionals'\n",
       "\\end{enumerate}\n"
      ],
      "text/markdown": [
       "1. 'These late night walks are still religion to me. Thank goodness for these.'\n",
       "2. 'Enter to win an Orioles vintage cap by email or tweet the answer to: Which 2 O\\'s pitchers hold the record for the most opening day starts?'\n",
       "3. 'A Monthly payment plan is now available for those wishing to enroll in Hawaii\\'s #1 RE Investor training program - the Millionaire Mentor...'\n",
       "4. 'Game time!'\n",
       "5. 'I feared that this was bound to happen Sugarland almost died 2 who should they sue The State of Indiana? whynot'\n",
       "6. 'ADDY Awards tonight...plus giving scholarships to 5 deserving students...and something from our young advertising professionals'\n",
       "\n",
       "\n"
      ],
      "text/plain": [
       "[[1]]\n",
       "[1] \"These late night walks are still religion to me. Thank goodness for these.\"\n",
       "\n",
       "[[2]]\n",
       "[1] \"Enter to win an Orioles vintage cap by email or tweet the answer to: Which 2 O's pitchers hold the record for the most opening day starts?\"\n",
       "\n",
       "[[3]]\n",
       "[1] \"A Monthly payment plan is now available for those wishing to enroll in Hawaii's #1 RE Investor training program - the Millionaire Mentor...\"\n",
       "\n",
       "[[4]]\n",
       "[1] \"Game time!\"\n",
       "\n",
       "[[5]]\n",
       "[1] \"I feared that this was bound to happen Sugarland almost died 2 who should they sue The State of Indiana? whynot\"\n",
       "\n",
       "[[6]]\n",
       "[1] \"ADDY Awards tonight...plus giving scholarships to 5 deserving students...and something from our young advertising professionals\"\n"
      ]
     },
     "metadata": {},
     "output_type": "display_data"
    }
   ],
   "source": [
    "head(enUsTwitter10kSubset)"
   ]
  },
  {
   "cell_type": "code",
   "execution_count": 94,
   "metadata": {},
   "outputs": [
    {
     "data": {
      "text/html": [
       "<table>\n",
       "<thead><tr><th scope=col>line</th><th scope=col>text</th></tr></thead>\n",
       "<tbody>\n",
       "\t<tr><td>1                                                                                                                                              </td><td>These late night walks are still religion to me. Thank goodness for these. eol                                                                 </td></tr>\n",
       "\t<tr><td>2                                                                                                                                              </td><td>Enter to win an Orioles vintage cap by email or tweet the answer to: Which 2 O's pitchers hold the record for the most opening day starts? eol </td></tr>\n",
       "\t<tr><td>3                                                                                                                                              </td><td>A Monthly payment plan is now available for those wishing to enroll in Hawaii's #1 RE Investor training program - the Millionaire Mentor... eol</td></tr>\n",
       "\t<tr><td>4                                                                                                                                              </td><td>Game time! eol                                                                                                                                 </td></tr>\n",
       "\t<tr><td>5                                                                                                                                              </td><td>I feared that this was bound to happen Sugarland almost died 2 who should they sue The State of Indiana? whynot eol                            </td></tr>\n",
       "\t<tr><td>6                                                                                                                                              </td><td>ADDY Awards tonight...plus giving scholarships to 5 deserving students...and something from our young advertising professionals eol            </td></tr>\n",
       "</tbody>\n",
       "</table>\n"
      ],
      "text/latex": [
       "\\begin{tabular}{r|ll}\n",
       " line & text\\\\\n",
       "\\hline\n",
       "\t 1                                                                                                                                               & These late night walks are still religion to me. Thank goodness for these. eol                                                                 \\\\\n",
       "\t 2                                                                                                                                               & Enter to win an Orioles vintage cap by email or tweet the answer to: Which 2 O's pitchers hold the record for the most opening day starts? eol \\\\\n",
       "\t 3                                                                                                                                                 & A Monthly payment plan is now available for those wishing to enroll in Hawaii's \\#1 RE Investor training program - the Millionaire Mentor... eol\\\\\n",
       "\t 4                                                                                                                                               & Game time! eol                                                                                                                                 \\\\\n",
       "\t 5                                                                                                                                               & I feared that this was bound to happen Sugarland almost died 2 who should they sue The State of Indiana? whynot eol                            \\\\\n",
       "\t 6                                                                                                                                               & ADDY Awards tonight...plus giving scholarships to 5 deserving students...and something from our young advertising professionals eol            \\\\\n",
       "\\end{tabular}\n"
      ],
      "text/markdown": [
       "\n",
       "| line | text |\n",
       "|---|---|\n",
       "| 1                                                                                                                                               | These late night walks are still religion to me. Thank goodness for these. eol                                                                  |\n",
       "| 2                                                                                                                                               | Enter to win an Orioles vintage cap by email or tweet the answer to: Which 2 O's pitchers hold the record for the most opening day starts? eol  |\n",
       "| 3                                                                                                                                               | A Monthly payment plan is now available for those wishing to enroll in Hawaii's #1 RE Investor training program - the Millionaire Mentor... eol |\n",
       "| 4                                                                                                                                               | Game time! eol                                                                                                                                  |\n",
       "| 5                                                                                                                                               | I feared that this was bound to happen Sugarland almost died 2 who should they sue The State of Indiana? whynot eol                             |\n",
       "| 6                                                                                                                                               | ADDY Awards tonight...plus giving scholarships to 5 deserving students...and something from our young advertising professionals eol             |\n",
       "\n"
      ],
      "text/plain": [
       "  line\n",
       "1 1   \n",
       "2 2   \n",
       "3 3   \n",
       "4 4   \n",
       "5 5   \n",
       "6 6   \n",
       "  text                                                                                                                                           \n",
       "1 These late night walks are still religion to me. Thank goodness for these. eol                                                                 \n",
       "2 Enter to win an Orioles vintage cap by email or tweet the answer to: Which 2 O's pitchers hold the record for the most opening day starts? eol \n",
       "3 A Monthly payment plan is now available for those wishing to enroll in Hawaii's #1 RE Investor training program - the Millionaire Mentor... eol\n",
       "4 Game time! eol                                                                                                                                 \n",
       "5 I feared that this was bound to happen Sugarland almost died 2 who should they sue The State of Indiana? whynot eol                            \n",
       "6 ADDY Awards tonight...plus giving scholarships to 5 deserving students...and something from our young advertising professionals eol            "
      ]
     },
     "metadata": {},
     "output_type": "display_data"
    },
    {
     "data": {
      "text/html": [
       "<table>\n",
       "<thead><tr><th scope=col>word</th><th scope=col>index</th></tr></thead>\n",
       "<tbody>\n",
       "\t<tr><td>these   </td><td> 1      </td></tr>\n",
       "\t<tr><td>late    </td><td> 2      </td></tr>\n",
       "\t<tr><td>night   </td><td> 3      </td></tr>\n",
       "\t<tr><td>walks   </td><td> 4      </td></tr>\n",
       "\t<tr><td>are     </td><td> 5      </td></tr>\n",
       "\t<tr><td>still   </td><td> 6      </td></tr>\n",
       "\t<tr><td>religion</td><td> 7      </td></tr>\n",
       "\t<tr><td>to      </td><td> 8      </td></tr>\n",
       "\t<tr><td>me      </td><td> 9      </td></tr>\n",
       "\t<tr><td>thank   </td><td>10      </td></tr>\n",
       "\t<tr><td>goodness</td><td>11      </td></tr>\n",
       "\t<tr><td>for     </td><td>12      </td></tr>\n",
       "\t<tr><td>these   </td><td>13      </td></tr>\n",
       "\t<tr><td>eol     </td><td>14      </td></tr>\n",
       "\t<tr><td>enter   </td><td>15      </td></tr>\n",
       "\t<tr><td>to      </td><td>16      </td></tr>\n",
       "\t<tr><td>win     </td><td>17      </td></tr>\n",
       "\t<tr><td>an      </td><td>18      </td></tr>\n",
       "\t<tr><td>orioles </td><td>19      </td></tr>\n",
       "\t<tr><td>vintage </td><td>20      </td></tr>\n",
       "</tbody>\n",
       "</table>\n"
      ],
      "text/latex": [
       "\\begin{tabular}{r|ll}\n",
       " word & index\\\\\n",
       "\\hline\n",
       "\t these    &  1      \\\\\n",
       "\t late     &  2      \\\\\n",
       "\t night    &  3      \\\\\n",
       "\t walks    &  4      \\\\\n",
       "\t are      &  5      \\\\\n",
       "\t still    &  6      \\\\\n",
       "\t religion &  7      \\\\\n",
       "\t to       &  8      \\\\\n",
       "\t me       &  9      \\\\\n",
       "\t thank    & 10      \\\\\n",
       "\t goodness & 11      \\\\\n",
       "\t for      & 12      \\\\\n",
       "\t these    & 13      \\\\\n",
       "\t eol      & 14      \\\\\n",
       "\t enter    & 15      \\\\\n",
       "\t to       & 16      \\\\\n",
       "\t win      & 17      \\\\\n",
       "\t an       & 18      \\\\\n",
       "\t orioles  & 19      \\\\\n",
       "\t vintage  & 20      \\\\\n",
       "\\end{tabular}\n"
      ],
      "text/markdown": [
       "\n",
       "| word | index |\n",
       "|---|---|\n",
       "| these    |  1       |\n",
       "| late     |  2       |\n",
       "| night    |  3       |\n",
       "| walks    |  4       |\n",
       "| are      |  5       |\n",
       "| still    |  6       |\n",
       "| religion |  7       |\n",
       "| to       |  8       |\n",
       "| me       |  9       |\n",
       "| thank    | 10       |\n",
       "| goodness | 11       |\n",
       "| for      | 12       |\n",
       "| these    | 13       |\n",
       "| eol      | 14       |\n",
       "| enter    | 15       |\n",
       "| to       | 16       |\n",
       "| win      | 17       |\n",
       "| an       | 18       |\n",
       "| orioles  | 19       |\n",
       "| vintage  | 20       |\n",
       "\n"
      ],
      "text/plain": [
       "   word     index\n",
       "1  these     1   \n",
       "2  late      2   \n",
       "3  night     3   \n",
       "4  walks     4   \n",
       "5  are       5   \n",
       "6  still     6   \n",
       "7  religion  7   \n",
       "8  to        8   \n",
       "9  me        9   \n",
       "10 thank    10   \n",
       "11 goodness 11   \n",
       "12 for      12   \n",
       "13 these    13   \n",
       "14 eol      14   \n",
       "15 enter    15   \n",
       "16 to       16   \n",
       "17 win      17   \n",
       "18 an       18   \n",
       "19 orioles  19   \n",
       "20 vintage  20   "
      ]
     },
     "metadata": {},
     "output_type": "display_data"
    },
    {
     "data": {
      "text/html": [
       "<table>\n",
       "<thead><tr><th scope=col>word</th><th scope=col>index</th></tr></thead>\n",
       "<tbody>\n",
       "\t<tr><td>who     </td><td>137269  </td></tr>\n",
       "\t<tr><td>research</td><td>137270  </td></tr>\n",
       "\t<tr><td>and     </td><td>137271  </td></tr>\n",
       "\t<tr><td>download</td><td>137272  </td></tr>\n",
       "\t<tr><td>kidzui  </td><td>137273  </td></tr>\n",
       "\t<tr><td>eol     </td><td>137274  </td></tr>\n",
       "</tbody>\n",
       "</table>\n"
      ],
      "text/latex": [
       "\\begin{tabular}{r|ll}\n",
       " word & index\\\\\n",
       "\\hline\n",
       "\t who      & 137269  \\\\\n",
       "\t research & 137270  \\\\\n",
       "\t and      & 137271  \\\\\n",
       "\t download & 137272  \\\\\n",
       "\t kidzui   & 137273  \\\\\n",
       "\t eol      & 137274  \\\\\n",
       "\\end{tabular}\n"
      ],
      "text/markdown": [
       "\n",
       "| word | index |\n",
       "|---|---|\n",
       "| who      | 137269   |\n",
       "| research | 137270   |\n",
       "| and      | 137271   |\n",
       "| download | 137272   |\n",
       "| kidzui   | 137273   |\n",
       "| eol      | 137274   |\n",
       "\n"
      ],
      "text/plain": [
       "  word     index \n",
       "1 who      137269\n",
       "2 research 137270\n",
       "3 and      137271\n",
       "4 download 137272\n",
       "5 kidzui   137273\n",
       "6 eol      137274"
      ]
     },
     "metadata": {},
     "output_type": "display_data"
    }
   ],
   "source": [
    "#copy/paste processing from\n",
    "# https://www.tidytextmining.com/tidytext.html\n",
    "\n",
    "sosToken <- 'start-of-sequence' #'root' token, representing start of a sequence\n",
    "eolToken <- 'eol' #token to capture end of line\n",
    "\n",
    "text <- unlist(enUsTwitter10kSubset)\n",
    "\n",
    "text_df <- tibble(line = 1:length(text), text = text)\n",
    "text_df <- mutate(text_df, text = paste(text, eolToken))\n",
    "\n",
    "words <- text_df %>%\n",
    "  unnest_tokens(word, text) %>%\n",
    "  select(word)\n",
    "\n",
    "words$index <- 1:nrow(words)\n",
    "\n",
    "head(text_df)\n",
    "\n",
    "head(words, 20)\n",
    "tail(words)"
   ]
  },
  {
   "cell_type": "code",
   "execution_count": 6,
   "metadata": {},
   "outputs": [],
   "source": [
    "# expand node:\n",
    "# for word in unique next words:\n",
    "#   find occurrences, create node"
   ]
  },
  {
   "cell_type": "code",
   "execution_count": 132,
   "metadata": {},
   "outputs": [],
   "source": [
    "rootNode <- Node$new(sosToken)\n",
    "rootNode$occurrences <- 0:(nrow(words)-1)\n",
    "rootNode$nOccurrences <- length(rootNode$occurrences)\n",
    "\n",
    "expandNode <- function(node) {\n",
    "    nextWordIndices <- node$occurrences + 1\n",
    "    nextWords <- words[nextWordIndices,]\n",
    "    \n",
    "    newNodes <- tibble(nodePath=character(), nOccurrences=integer())\n",
    "    for (uniqueWord in unique(nextWords$word)){\n",
    "        newNode <- node$AddChild(uniqueWord)\n",
    "        newNode$occurrences <- filter(nextWords, word==uniqueWord)$index\n",
    "        newNode$nOccurrences <- length(newNode$occurrences)\n",
    "        nodePath <- newNode$pathString\n",
    "        nodePath <- str_replace(nodePath, sosToken, '.')\n",
    "        newNodes <- bind_rows(\n",
    "            tibble(nodePath=nodePath, nOccurrences=newNode$nOccurrences),\n",
    "            newNodes\n",
    "        )\n",
    "    }\n",
    "    if (nrow(newNodes) > 0)\n",
    "    {\n",
    "        print(newNodes)\n",
    "        Sort(node, 'nOccurrences', decreasing = T)\n",
    "    }\n",
    "    newNodes\n",
    "}"
   ]
  },
  {
   "cell_type": "code",
   "execution_count": 127,
   "metadata": {},
   "outputs": [
    {
     "data": {
      "text/html": [
       "<table>\n",
       "<thead><tr><th scope=col>nodePath</th><th scope=col>nOccurrences</th></tr></thead>\n",
       "<tbody>\n",
       "\t<tr><td>.     </td><td>137274</td></tr>\n",
       "</tbody>\n",
       "</table>\n"
      ],
      "text/latex": [
       "\\begin{tabular}{r|ll}\n",
       " nodePath & nOccurrences\\\\\n",
       "\\hline\n",
       "\t .      & 137274\\\\\n",
       "\\end{tabular}\n"
      ],
      "text/markdown": [
       "\n",
       "| nodePath | nOccurrences |\n",
       "|---|---|\n",
       "| .      | 137274 |\n",
       "\n"
      ],
      "text/plain": [
       "  nodePath nOccurrences\n",
       "1 .        137274      "
      ]
     },
     "metadata": {},
     "output_type": "display_data"
    }
   ],
   "source": [
    "frontier <-tibble(nodePath='.', nOccurrences=rootNode$nOccurrences)\n",
    "frontier"
   ]
  },
  {
   "cell_type": "code",
   "execution_count": 128,
   "metadata": {},
   "outputs": [
    {
     "name": "stdout",
     "output_type": "stream",
     "text": [
      "Expanding: ."
     ]
    },
    {
     "name": "stderr",
     "output_type": "stream",
     "text": [
      "Warning message in CheckNameReservedWord(name, check):\n",
      "“Name 'name' is a reserved word as defined in NODE_RESERVED_NAMES_CONST. Using 'name2' instead.”Warning message in CheckNameReservedWord(name, check):\n",
      "“Name 'position' is a reserved word as defined in NODE_RESERVED_NAMES_CONST. Using 'position2' instead.”Warning message in CheckNameReservedWord(name, check):\n",
      "“Name 'children' is a reserved word as defined in NODE_RESERVED_NAMES_CONST. Using 'children2' instead.”Warning message in CheckNameReservedWord(name, check):\n",
      "“Name 'level' is a reserved word as defined in NODE_RESERVED_NAMES_CONST. Using 'level2' instead.”Warning message in CheckNameReservedWord(name, check):\n",
      "“Name 'fields' is a reserved word as defined in NODE_RESERVED_NAMES_CONST. Using 'fields2' instead.”Warning message in CheckNameReservedWord(name, check):\n",
      "“Name 'path' is a reserved word as defined in NODE_RESERVED_NAMES_CONST. Using 'path2' instead.”Warning message in CheckNameReservedWord(name, check):\n",
      "“Name 'leaves' is a reserved word as defined in NODE_RESERVED_NAMES_CONST. Using 'leaves2' instead.”Warning message in CheckNameReservedWord(name, check):\n",
      "“Name 'count' is a reserved word as defined in NODE_RESERVED_NAMES_CONST. Using 'count2' instead.”Warning message in CheckNameReservedWord(name, check):\n",
      "“Name 'root' is a reserved word as defined in NODE_RESERVED_NAMES_CONST. Using 'root2' instead.”Warning message in CheckNameReservedWord(name, check):\n",
      "“Name 'parent' is a reserved word as defined in NODE_RESERVED_NAMES_CONST. Using 'parent2' instead.”"
     ]
    },
    {
     "name": "stdout",
     "output_type": "stream",
     "text": [
      "# A tibble: 1 x 2\n",
      "  nodePath nOccurrences\n",
      "  <chr>           <int>\n",
      "1 ./geared            1\n"
     ]
    },
    {
     "data": {
      "text/html": [
       "<table>\n",
       "<thead><tr><th scope=col>nodePath</th><th scope=col>nOccurrences</th></tr></thead>\n",
       "<tbody>\n",
       "\t<tr><td>./geared</td><td>1       </td></tr>\n",
       "</tbody>\n",
       "</table>\n"
      ],
      "text/latex": [
       "\\begin{tabular}{r|ll}\n",
       " nodePath & nOccurrences\\\\\n",
       "\\hline\n",
       "\t ./geared & 1       \\\\\n",
       "\\end{tabular}\n"
      ],
      "text/markdown": [
       "\n",
       "| nodePath | nOccurrences |\n",
       "|---|---|\n",
       "| ./geared | 1        |\n",
       "\n"
      ],
      "text/plain": [
       "  nodePath nOccurrences\n",
       "1 ./geared 1           "
      ]
     },
     "metadata": {},
     "output_type": "display_data"
    }
   ],
   "source": [
    "#expand next node:\n",
    "# take the next most common sequence in the frontier\n",
    "frontier <- arrange(frontier, desc(nOccurrences))\n",
    "pathToExpand <- frontier$nodePath[1]\n",
    "cat(paste('Expanding:', pathToExpand))\n",
    "nodeToExpand <- Navigate(rootNode, pathToExpand)\n",
    "\n",
    "# remove it from the frontier\n",
    "frontier <- frontier[-1,]\n",
    "\n",
    "# expand it\n",
    "newNodes <- expandNode(nodeToExpand)\n",
    "\n",
    "# add new nodes to frontier\n",
    "frontier <- bind_rows(frontier, newNodes)\n",
    "head(frontier)"
   ]
  },
  {
   "cell_type": "code",
   "execution_count": 134,
   "metadata": {},
   "outputs": [
    {
     "name": "stdout",
     "output_type": "stream",
     "text": [
      "          levelName nOccurrences\n",
      "1 start-of-sequence       137274\n"
     ]
    }
   ],
   "source": [
    "print(rootNode, 'nOccurrences', limit = 20)"
   ]
  },
  {
   "cell_type": "code",
   "execution_count": 130,
   "metadata": {},
   "outputs": [
    {
     "name": "stderr",
     "output_type": "stream",
     "text": [
      "Warning message in CheckNameReservedWord(name, check):\n",
      "“Name 'name' is a reserved word as defined in NODE_RESERVED_NAMES_CONST. Using 'name2' instead.”Warning message in CheckNameReservedWord(name, check):\n",
      "“Name 'path' is a reserved word as defined in NODE_RESERVED_NAMES_CONST. Using 'path2' instead.”Warning message in CheckNameReservedWord(name, check):\n",
      "“Name 'level' is a reserved word as defined in NODE_RESERVED_NAMES_CONST. Using 'level2' instead.”"
     ]
    },
    {
     "name": "stdout",
     "output_type": "stream",
     "text": [
      "# A tibble: 1 x 2\n",
      "  nodePath      nOccurrences\n",
      "  <chr>                <int>\n",
      "1 ./the/coconut            1\n"
     ]
    },
    {
     "data": {
      "text/html": [
       "<table>\n",
       "<thead><tr><th scope=col>nodePath</th><th scope=col>nOccurrences</th></tr></thead>\n",
       "<tbody>\n",
       "\t<tr><td>./the/coconut</td><td>1            </td></tr>\n",
       "</tbody>\n",
       "</table>\n"
      ],
      "text/latex": [
       "\\begin{tabular}{r|ll}\n",
       " nodePath & nOccurrences\\\\\n",
       "\\hline\n",
       "\t ./the/coconut & 1            \\\\\n",
       "\\end{tabular}\n"
      ],
      "text/markdown": [
       "\n",
       "| nodePath | nOccurrences |\n",
       "|---|---|\n",
       "| ./the/coconut | 1             |\n",
       "\n"
      ],
      "text/plain": [
       "  nodePath      nOccurrences\n",
       "1 ./the/coconut 1           "
      ]
     },
     "metadata": {},
     "output_type": "display_data"
    }
   ],
   "source": [
    "expandNode(rootNode$the)"
   ]
  },
  {
   "cell_type": "code",
   "execution_count": 131,
   "metadata": {},
   "outputs": [
    {
     "name": "stdout",
     "output_type": "stream",
     "text": [
      "# A tibble: 1 x 2\n",
      "  nodePath           nOccurrences\n",
      "  <chr>                     <int>\n",
      "1 ./the/best/stickum            1\n"
     ]
    },
    {
     "data": {
      "text/html": [
       "<table>\n",
       "<thead><tr><th scope=col>nodePath</th><th scope=col>nOccurrences</th></tr></thead>\n",
       "<tbody>\n",
       "\t<tr><td>./the/best/stickum</td><td>1                 </td></tr>\n",
       "</tbody>\n",
       "</table>\n"
      ],
      "text/latex": [
       "\\begin{tabular}{r|ll}\n",
       " nodePath & nOccurrences\\\\\n",
       "\\hline\n",
       "\t ./the/best/stickum & 1                 \\\\\n",
       "\\end{tabular}\n"
      ],
      "text/markdown": [
       "\n",
       "| nodePath | nOccurrences |\n",
       "|---|---|\n",
       "| ./the/best/stickum | 1                  |\n",
       "\n"
      ],
      "text/plain": [
       "  nodePath           nOccurrences\n",
       "1 ./the/best/stickum 1           "
      ]
     },
     "metadata": {},
     "output_type": "display_data"
    }
   ],
   "source": [
    "expandNode(rootNode$'the'$'best')"
   ]
  },
  {
   "cell_type": "code",
   "execution_count": 125,
   "metadata": {},
   "outputs": [
    {
     "name": "stdout",
     "output_type": "stream",
     "text": [
      "          levelName nOccurrences\n",
      "1 start-of-sequence       137274\n"
     ]
    }
   ],
   "source": [
    "print(rootNode, 'nOccurrences', limit = 20)"
   ]
  },
  {
   "cell_type": "code",
   "execution_count": 133,
   "metadata": {},
   "outputs": [
    {
     "name": "stdout",
     "output_type": "stream",
     "text": [
      "NULL\n"
     ]
    }
   ],
   "source": [
    "print(rootNode$'the', limit = 20)"
   ]
  }
 ],
 "metadata": {
  "kernelspec": {
   "display_name": "R",
   "language": "R",
   "name": "ir"
  },
  "language_info": {
   "codemirror_mode": "r",
   "file_extension": ".r",
   "mimetype": "text/x-r-source",
   "name": "R",
   "pygments_lexer": "r",
   "version": "3.4.4"
  }
 },
 "nbformat": 4,
 "nbformat_minor": 2
}
